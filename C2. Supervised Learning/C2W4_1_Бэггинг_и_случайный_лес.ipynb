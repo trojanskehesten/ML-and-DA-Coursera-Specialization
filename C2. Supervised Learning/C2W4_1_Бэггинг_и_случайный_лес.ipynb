{
  "nbformat": 4,
  "nbformat_minor": 0,
  "metadata": {
    "colab": {
      "name": "C2W4_1_Бэггинг и случайный лес.ipynb",
      "provenance": [],
      "collapsed_sections": []
    },
    "kernelspec": {
      "name": "python3",
      "display_name": "Python 3"
    }
  },
  "cells": [
    {
      "cell_type": "markdown",
      "metadata": {
        "id": "mEJTVcXCneB6"
      },
      "source": [
        "##Задание по программированию: Бэггинг и случайный лес"
      ]
    },
    {
      "cell_type": "code",
      "metadata": {
        "id": "lmu5Qvbt0YNQ"
      },
      "source": [
        "from sklearn.datasets import load_digits\n",
        "import matplotlib.pyplot as plt\n",
        "import numpy as np\n",
        "from sklearn.model_selection import cross_val_score, KFold\n",
        "from sklearn.tree import DecisionTreeClassifier, plot_tree\n",
        "from sklearn.ensemble import BaggingClassifier, RandomForestClassifier"
      ],
      "execution_count": 1,
      "outputs": []
    },
    {
      "cell_type": "markdown",
      "metadata": {
        "id": "QPMy6djKHOQq"
      },
      "source": [
        "Загрузите датасет digits с помощью функции load_digits из sklearn.datasets и подготовьте матрицу признаков X и ответы на обучающей выборке y (вам потребуются поля data и target в объекте, который возвращает load_digits).\n"
      ]
    },
    {
      "cell_type": "code",
      "metadata": {
        "id": "7Cgk--qmHKwb",
        "colab": {
          "base_uri": "https://localhost:8080/"
        },
        "outputId": "2bce6266-fa70-44e9-cbb8-d1a798e648c1"
      },
      "source": [
        "digits = load_digits()\n",
        "\n",
        "X = digits.data\n",
        "y = digits.target\n",
        "X.shape, y.shape"
      ],
      "execution_count": 2,
      "outputs": [
        {
          "output_type": "execute_result",
          "data": {
            "text/plain": [
              "((1797, 64), (1797,))"
            ]
          },
          "metadata": {
            "tags": []
          },
          "execution_count": 2
        }
      ]
    },
    {
      "cell_type": "code",
      "metadata": {
        "id": "xIuiVB2BJ-t7",
        "colab": {
          "base_uri": "https://localhost:8080/",
          "height": 324
        },
        "outputId": "3890b1ba-ed63-4158-f527-23ea1416ba6a"
      },
      "source": [
        "n = 10\n",
        "n_cols = n // 2\n",
        "fig, axs = plt.subplots(2, n_cols)\n",
        "\n",
        "for i in range(n):\n",
        "  row = i // n_cols\n",
        "  col = i - row * n_cols\n",
        "  axs[row, col].imshow(np.array(X[i]).reshape((8,8)), cmap='gray')\n",
        "  axs[row, col].title.set_text('y='+str(y[i]))\n",
        "\n",
        "X[0], y[0]"
      ],
      "execution_count": 3,
      "outputs": [
        {
          "output_type": "execute_result",
          "data": {
            "text/plain": [
              "(array([ 0.,  0.,  5., 13.,  9.,  1.,  0.,  0.,  0.,  0., 13., 15., 10.,\n",
              "        15.,  5.,  0.,  0.,  3., 15.,  2.,  0., 11.,  8.,  0.,  0.,  4.,\n",
              "        12.,  0.,  0.,  8.,  8.,  0.,  0.,  5.,  8.,  0.,  0.,  9.,  8.,\n",
              "         0.,  0.,  4., 11.,  0.,  1., 12.,  7.,  0.,  0.,  2., 14.,  5.,\n",
              "        10., 12.,  0.,  0.,  0.,  0.,  6., 13., 10.,  0.,  0.,  0.]), 0)"
            ]
          },
          "metadata": {
            "tags": []
          },
          "execution_count": 3
        },
        {
          "output_type": "display_data",
          "data": {
            "image/png": "[encoded data removed]",
            "text/plain": [
              "<Figure size 432x288 with 10 Axes>"
            ]
          },
          "metadata": {
            "tags": [],
            "needs_background": "light"
          }
        }
      ]
    },
    {
      "cell_type": "markdown",
      "metadata": {
        "id": "fvHAoWtKKY9U"
      },
      "source": [
        "Для оценки качества далее нужно будет использовать cross_val_score из sklearn.cross_validation с параметром cv=10. Эта функция реализует k-fold cross validation c k равным значению параметра cv. Мы предлагаем использовать k=10, чтобы полученные оценки качества имели небольшой разброс, и было проще проверить полученные ответы. На практике же часто хватает и k=5. Функция cross_val_score будет возвращать numpy.ndarray, в котором будет k чисел - качество в каждом из k экспериментов k-fold cross validation. Для получения среднего значения (которое и будет оценкой качества работы) вызовите метод .mean() у массива, который возвращает cross_val_score.\n",
        "\n",
        "С небольшой вероятностью вы можете натолкнуться на случай, когда полученное вами качество в каком-то из пунктов не попадет в диапазон, заданный для правильных ответов - в этом случае попробуйте перезапустить ячейку с cross_val_score несколько раз и выбрать наиболее «типичное» значение. Если это не помогает, то где-то была допущена ошибка.\n",
        "\n",
        "Если вам захочется ускорить вычисление cross_val_score - можете попробовать использовать параметр n_jobs, но будьте осторожны: в одной из старых версий sklearn была ошибка, которая приводила к неверному результату работы cross_val_score при задании n_jobs отличным от 1. Сейчас такой проблемы возникнуть не должно, но проверить, что все в порядке, не будет лишним.\n",
        "```\n",
        "  result = cross_val_score(estimator, X, y, cv=KFold(n_splits=10))\n",
        "  result = cross_val_score(estimator, X, y, cv=10, n_jobs=-1)\n",
        "  result.mean()\n",
        "```"
      ]
    },
    {
      "cell_type": "markdown",
      "metadata": {
        "id": "PHuoIp4MMsT_"
      },
      "source": [
        "**[1]** Создайте *DecisionTreeClassifier* с настройками по умолчанию и измерьте качество его работы с помощью *cross_val_score*. Эта величина и будет ответом в пункте 1."
      ]
    },
    {
      "cell_type": "code",
      "metadata": {
        "id": "69LrxLaqVHy6"
      },
      "source": [
        "def n_cross_val_score(model, X, y, n=3, cv=10, n_jobs=-1):\n",
        "  results = []\n",
        "  for i in range(n): # для получения правильного ответа наверняка, см текст выше\n",
        "    result = cross_val_score(model, X, y, cv=cv, n_jobs=n_jobs, )\n",
        "    results.append(result.mean())\n",
        "    print('Result{}:'.format(i), results[i])\n",
        "  print('Median:', np.median(results))\n",
        "  print()\n",
        "  return np.median(results)"
      ],
      "execution_count": 4,
      "outputs": []
    },
    {
      "cell_type": "code",
      "metadata": {
        "id": "NESR3ouFMsvN",
        "colab": {
          "base_uri": "https://localhost:8080/"
        },
        "outputId": "0327f4a7-84e0-4be2-b8e7-a7b5f9add91d"
      },
      "source": [
        "%%time\n",
        "model = DecisionTreeClassifier()\n",
        "ans_1 = n_cross_val_score(model, X, y)"
      ],
      "execution_count": 5,
      "outputs": [
        {
          "output_type": "stream",
          "text": [
            "Result0: 0.8330291744258224\n",
            "Result1: 0.824130974549969\n",
            "Result2: 0.8347020484171322\n",
            "Median: 0.8330291744258224\n",
            "\n",
            "CPU times: user 178 ms, sys: 53.2 ms, total: 231 ms\n",
            "Wall time: 1.72 s\n"
          ],
          "name": "stdout"
        }
      ]
    },
    {
      "cell_type": "code",
      "metadata": {
        "id": "M7Obz4cbQVf3",
        "colab": {
          "base_uri": "https://localhost:8080/"
        },
        "outputId": "3c31490d-00e7-476d-82d3-8ce881a5949c"
      },
      "source": [
        "def write_answer(answer, n):\n",
        "  with open('answer_{}.txt'.format(n), 'w') as f:\n",
        "    f.write(str(answer))\n",
        "\n",
        "write_answer(ans_1, 1)\n",
        "\n",
        "result = cross_val_score(model, X, y, cv=10)\n",
        "result, result.mean()"
      ],
      "execution_count": 6,
      "outputs": [
        {
          "output_type": "execute_result",
          "data": {
            "text/plain": [
              "(array([0.82222222, 0.86111111, 0.83333333, 0.77777778, 0.79444444,\n",
              "        0.89444444, 0.87777778, 0.81005587, 0.81564246, 0.79329609]),\n",
              " 0.8280105524518933)"
            ]
          },
          "metadata": {
            "tags": []
          },
          "execution_count": 6
        }
      ]
    },
    {
      "cell_type": "markdown",
      "metadata": {
        "id": "34c0LDzcHYVM"
      },
      "source": [
        "**Ради интереса визуализирую:**"
      ]
    },
    {
      "cell_type": "code",
      "metadata": {
        "colab": {
          "base_uri": "https://localhost:8080/",
          "height": 357
        },
        "id": "UHlYValwGRJ7",
        "outputId": "a9b51c62-1005-4139-f97d-a71ef50d8863"
      },
      "source": [
        "model.fit(X, y)\n",
        "plt.figure(figsize=(20, 6))\n",
        "plot_tree(model, max_depth=2, fontsize=10);"
      ],
      "execution_count": 7,
      "outputs": [
        {
          "output_type": "display_data",
          "data": {
            "image/png": "[encoded data removed]",
            "text/plain": [
              "<Figure size 1440x432 with 1 Axes>"
            ]
          },
          "metadata": {
            "tags": [],
            "needs_background": "light"
          }
        }
      ]
    },
    {
      "cell_type": "markdown",
      "metadata": {
        "id": "oAoRBW7pMs5H"
      },
      "source": [
        "**[2]** Воспользуйтесь *BaggingClassifier* из *sklearn.ensemble*, чтобы обучить бэггинг над *DecisionTreeClassifier*. Используйте в *BaggingClassifier* параметры по умолчанию, задав только количество деревьев равным 100.\n",
        "\n",
        "Качество классификации новой модели - ответ в пункте 2. Обратите внимание, как соотносится качество работы композиции решающих деревьев с качеством работы одного решающего дерева."
      ]
    },
    {
      "cell_type": "code",
      "metadata": {
        "id": "L4AlhSaeMyUR",
        "colab": {
          "base_uri": "https://localhost:8080/"
        },
        "outputId": "6a1b4f68-a870-4399-86d9-f328ce988f5a"
      },
      "source": [
        "%%time\n",
        "model = BaggingClassifier(base_estimator=DecisionTreeClassifier(), n_estimators=100)\n",
        "ans_2 = n_cross_val_score(model, X, y)\n",
        "print('DecisionTree:' , ans_1)\n",
        "print('Bagging:' , ans_2)\n",
        "write_answer(ans_2, 2)"
      ],
      "execution_count": 8,
      "outputs": [
        {
          "output_type": "stream",
          "text": [
            "Result0: 0.9265052762259465\n",
            "Result1: 0.9226163873370578\n",
            "Result2: 0.9153879577901923\n",
            "Median: 0.9226163873370578\n",
            "\n",
            "DecisionTree: 0.8330291744258224\n",
            "Bagging: 0.9226163873370578\n",
            "CPU times: user 313 ms, sys: 45.2 ms, total: 358 ms\n",
            "Wall time: 35.6 s\n"
          ],
          "name": "stdout"
        }
      ]
    },
    {
      "cell_type": "markdown",
      "metadata": {
        "id": "b2ZnBCN7Myad"
      },
      "source": [
        "**[3]** Теперь изучите параметры *BaggingClassifier* и выберите их такими, чтобы каждый базовый алгоритм обучался не на всех d признаках, а на $\\sqrt{d}$ случайных признаков. Качество работы получившегося классификатора - ответ в пункте 3. Корень из числа признаков - часто используемая эвристика в задачах классификации, в задачах регрессии же часто берут число признаков, деленное на три. Но в общем случае ничто не мешает вам выбирать любое другое число случайных признаков."
      ]
    },
    {
      "cell_type": "code",
      "metadata": {
        "id": "I14m8l-oMy7r",
        "colab": {
          "base_uri": "https://localhost:8080/"
        },
        "outputId": "59781187-2bc8-4133-a80a-4e1468be9a53"
      },
      "source": [
        "%%time \n",
        "d = X.shape[1]\n",
        "sqrt_d = int(np.sqrt(d))\n",
        "model = BaggingClassifier(base_estimator=DecisionTreeClassifier(), n_estimators=100, max_features=sqrt_d)\n",
        "ans_3 = n_cross_val_score(model, X, y)\n",
        "print('Bagging, max_features by default:' , ans_2)\n",
        "write_answer(ans_3, 3)"
      ],
      "execution_count": 9,
      "outputs": [
        {
          "output_type": "stream",
          "text": [
            "Result0: 0.9315487274984481\n",
            "Result1: 0.9310180012414648\n",
            "Result2: 0.9326536312849161\n",
            "Median: 0.9315487274984481\n",
            "\n",
            "Bagging, max_features by default: 0.9226163873370578\n",
            "CPU times: user 218 ms, sys: 28.1 ms, total: 246 ms\n",
            "Wall time: 10.9 s\n"
          ],
          "name": "stdout"
        }
      ]
    },
    {
      "cell_type": "markdown",
      "metadata": {
        "id": "xIK9ggV_MzJz"
      },
      "source": [
        "**[4]** Наконец, давайте попробуем выбирать случайные признаки не один раз на все дерево, а при построении каждой вершины дерева. Сделать это несложно: нужно убрать выбор случайного подмножества признаков в *BaggingClassifier* и добавить его в *DecisionTreeClassifier*. Какой параметр за это отвечает, можно понять из документации *sklearn*, либо просто попробовать угадать (скорее всего, у вас сразу получится). Попробуйте выбирать опять же $\\sqrt{d}$ признаков. Качество полученного классификатора на контрольной выборке и будет ответом в пункте 4."
      ]
    },
    {
      "cell_type": "code",
      "metadata": {
        "id": "eWmX1UEWM4LD",
        "colab": {
          "base_uri": "https://localhost:8080/"
        },
        "outputId": "65e48ab4-ed1e-45e1-8aa3-784c04719b4c"
      },
      "source": [
        "%%time\n",
        "tree = DecisionTreeClassifier(max_features=sqrt_d)\n",
        "model = BaggingClassifier(base_estimator=tree, n_estimators=100)\n",
        "ans_4 = n_cross_val_score(model, X, y)\n",
        "print('Bagging, max_features=sqrt(d):' , ans_3)\n",
        "\n",
        "write_answer(ans_4, 4)"
      ],
      "execution_count": 10,
      "outputs": [
        {
          "output_type": "stream",
          "text": [
            "Result0: 0.9465642458100557\n",
            "Result1: 0.9471011793916821\n",
            "Result2: 0.9493451272501551\n",
            "Median: 0.9471011793916821\n",
            "\n",
            "Bagging, max_features=sqrt(d): 0.9315487274984481\n",
            "CPU times: user 238 ms, sys: 19.9 ms, total: 258 ms\n",
            "Wall time: 11.7 s\n"
          ],
          "name": "stdout"
        }
      ]
    },
    {
      "cell_type": "markdown",
      "metadata": {
        "id": "XUZ4QGKhHcp9"
      },
      "source": [
        "**[5]** Полученный в пункте 4 классификатор - бэггинг на рандомизированных деревьях (в которых при построении каждой вершины выбирается случайное подмножество признаков и разбиение ищется только по ним). Это в точности соответствует алгоритму *Random Forest*, поэтому почему бы не сравнить качество работы классификатора с *RandomForestClassifier* из *sklearn.ensemble*. Сделайте это, а затем изучите, как качество классификации на данном датасете зависит от количества деревьев, количества признаков, выбираемых при построении каждой вершины дерева, а также ограничений на глубину дерева. Для наглядности лучше построить графики зависимости качества от значений параметров, но для сдачи задания это делать не обязательно."
      ]
    },
    {
      "cell_type": "code",
      "metadata": {
        "id": "9weW05oHHO0R",
        "colab": {
          "base_uri": "https://localhost:8080/"
        },
        "outputId": "58769ced-0c67-40d1-b92d-da5572fe48bc"
      },
      "source": [
        "%%time\n",
        "model = RandomForestClassifier()\n",
        "ans_4_2 = n_cross_val_score(model, X, y)\n",
        "print('Manual Random Forest:' , ans_4)"
      ],
      "execution_count": 11,
      "outputs": [
        {
          "output_type": "stream",
          "text": [
            "Result0: 0.951024208566108\n",
            "Result1: 0.9510273122284294\n",
            "Result2: 0.9460117939168218\n",
            "Median: 0.951024208566108\n",
            "\n",
            "Manual Random Forest: 0.9471011793916821\n",
            "CPU times: user 213 ms, sys: 25.9 ms, total: 239 ms\n",
            "Wall time: 9.8 s\n"
          ],
          "name": "stdout"
        }
      ]
    },
    {
      "cell_type": "code",
      "metadata": {
        "id": "SAaY285MnYGT",
        "colab": {
          "base_uri": "https://localhost:8080/"
        },
        "outputId": "c9d88db9-e546-4b7b-df06-c911457d248f"
      },
      "source": [
        "model.get_params"
      ],
      "execution_count": 12,
      "outputs": [
        {
          "output_type": "execute_result",
          "data": {
            "text/plain": [
              "<bound method BaseEstimator.get_params of RandomForestClassifier(bootstrap=True, ccp_alpha=0.0, class_weight=None,\n",
              "                       criterion='gini', max_depth=None, max_features='auto',\n",
              "                       max_leaf_nodes=None, max_samples=None,\n",
              "                       min_impurity_decrease=0.0, min_impurity_split=None,\n",
              "                       min_samples_leaf=1, min_samples_split=2,\n",
              "                       min_weight_fraction_leaf=0.0, n_estimators=100,\n",
              "                       n_jobs=None, oob_score=False, random_state=None,\n",
              "                       verbose=0, warm_start=False)>"
            ]
          },
          "metadata": {
            "tags": []
          },
          "execution_count": 12
        }
      ]
    },
    {
      "cell_type": "markdown",
      "metadata": {
        "id": "YnisJKqGhjQ5"
      },
      "source": [
        "На основе наблюдений выпишите через пробел номера правильных утверждений из приведенных ниже в порядке возрастания номера (это будет ответ в п.5)\n",
        "\n",
        "1) Случайный лес сильно переобучается с ростом количества деревьев\n",
        "\n",
        "**2) При очень маленьком числе деревьев (5, 10, 15), случайный лес работает хуже, чем при большем числе деревьев**\n",
        "\n",
        "**3) С ростом количества деревьев в случайном лесе, в какой-то момент деревьев становится достаточно для высокого качества классификации, а затем качество существенно не меняется.**"
      ]
    },
    {
      "cell_type": "code",
      "metadata": {
        "id": "UFJFG0AleBLs",
        "colab": {
          "base_uri": "https://localhost:8080/",
          "height": 280
        },
        "outputId": "6cf3bf4d-6d8f-4203-e15f-f965a2f5e107"
      },
      "source": [
        "n_estimators_grid = [5, 10, 15, 20, 50, 100, 200, 500]\n",
        "scoring = []\n",
        "for n_estimators in n_estimators_grid:\n",
        "  model = RandomForestClassifier(n_jobs=-1, n_estimators=n_estimators) #, max_features=64, max_depth=5)\n",
        "  score = cross_val_score(model, X, y, cv=10, n_jobs=-1)\n",
        "  scoring.append(score.mean())\n",
        "\n",
        "plt.plot(n_estimators_grid, scoring)\n",
        "plt.xlabel('n_estimators')\n",
        "plt.ylabel('score')\n",
        "plt.grid();"
      ],
      "execution_count": 13,
      "outputs": [
        {
          "output_type": "display_data",
          "data": {
            "image/png": "[encoded data removed]",
            "text/plain": [
              "<Figure size 432x288 with 1 Axes>"
            ]
          },
          "metadata": {
            "tags": [],
            "needs_background": "light"
          }
        }
      ]
    },
    {
      "cell_type": "code",
      "metadata": {
        "id": "Sb59sWUNk1Q0"
      },
      "source": [
        "ans_5 = '2 3 '"
      ],
      "execution_count": 14,
      "outputs": []
    },
    {
      "cell_type": "markdown",
      "metadata": {
        "id": "Ucxs-gmqNEwU"
      },
      "source": [
        "**4) При большом количестве признаков (для данного датасета - 40, 50) качество классификации становится хуже, чем при малом количестве признаков (5, 10). Это связано с тем, что чем меньше признаков выбирается в каждом узле, тем более различными получаются деревья (ведь деревья сильно неустойчивы к изменениям в обучающей выборке), и тем лучше работает их композиция.**\n",
        "\n",
        "5) При большом количестве признаков (40, 50, 60) качество классификации лучше, чем при малом количестве признаков (5, 10). Это связано с тем, что чем больше признаков - тем больше информации об объектах, а значит алгоритм может делать прогнозы более точно."
      ]
    },
    {
      "cell_type": "code",
      "metadata": {
        "id": "BNDoaXfhjqT8",
        "colab": {
          "base_uri": "https://localhost:8080/",
          "height": 280
        },
        "outputId": "7e0e634e-ed0f-4e5b-ecda-021c959e0cfa"
      },
      "source": [
        "max_features_grid = [5, 10, 16, 32, 40, 50, 64]\n",
        "scoring = []\n",
        "for max_features in max_features_grid:\n",
        "  model = RandomForestClassifier(n_jobs=-1, max_features=max_features) #, max_depth=5)\n",
        "  score = cross_val_score(model, X, y, cv=10, n_jobs=-1)\n",
        "  scoring.append(score.mean())\n",
        "\n",
        "plt.plot(max_features_grid, scoring)\n",
        "plt.xlabel('max_features')\n",
        "plt.ylabel('score')\n",
        "plt.grid();"
      ],
      "execution_count": 15,
      "outputs": [
        {
          "output_type": "display_data",
          "data": {
            "image/png": "[encoded data removed]",
            "text/plain": [
              "<Figure size 432x288 with 1 Axes>"
            ]
          },
          "metadata": {
            "tags": [],
            "needs_background": "light"
          }
        }
      ]
    },
    {
      "cell_type": "code",
      "metadata": {
        "id": "fUBkkPNWkrGq"
      },
      "source": [
        "ans_5 += '4 '"
      ],
      "execution_count": 16,
      "outputs": []
    },
    {
      "cell_type": "markdown",
      "metadata": {
        "id": "za-PDJOxjq94"
      },
      "source": [
        "6) При небольшой максимальной глубине деревьев (5-6) качество работы случайного леса намного лучше, чем без ограничения глубины, т.к. деревья получаются не переобученными. С ростом глубины деревьев качество ухудшается.\n",
        "\n",
        "**7) При небольшой максимальной глубине деревьев (5-6) качество работы случайного леса заметно хуже, чем без ограничений, т.к. деревья получаются недообученными. С ростом глубины качество сначала улучшается, а затем не меняется существенно, т.к. из-за усреднения прогнозов и различий деревьев их переобученность в бэггинге не сказывается на итоговом качестве (все деревья преобучены по-разному, и при усреднении они компенсируют переобученность друг-друга).**"
      ]
    },
    {
      "cell_type": "code",
      "metadata": {
        "id": "ZtyPcw9rknmk",
        "colab": {
          "base_uri": "https://localhost:8080/",
          "height": 280
        },
        "outputId": "2999d907-3aac-407a-ebef-d7162967f8e3"
      },
      "source": [
        "max_depth_grid = [1, 2, 5, 6, 10, 15, 20, 25]\n",
        "scoring = []\n",
        "for max_depth in max_depth_grid:\n",
        "  model = RandomForestClassifier(n_jobs=-1, max_depth=max_depth)\n",
        "  score = cross_val_score(model, X, y, cv=10, n_jobs=-1)\n",
        "  scoring.append(score.mean())\n",
        "\n",
        "plt.plot(max_depth_grid, scoring)\n",
        "plt.xlabel('max_depth')\n",
        "plt.ylabel('score')\n",
        "plt.grid();"
      ],
      "execution_count": 17,
      "outputs": [
        {
          "output_type": "display_data",
          "data": {
            "image/png": "[encoded data removed]",
            "text/plain": [
              "<Figure size 432x288 with 1 Axes>"
            ]
          },
          "metadata": {
            "tags": [],
            "needs_background": "light"
          }
        }
      ]
    },
    {
      "cell_type": "code",
      "metadata": {
        "id": "H0SShIg0NFbc",
        "colab": {
          "base_uri": "https://localhost:8080/"
        },
        "outputId": "3c1e8bcd-25e9-40eb-f243-14711efd919a"
      },
      "source": [
        "ans_5 += '7'\n",
        "write_answer(ans_5, 5)\n",
        "print('Answer 5:', ans_5)"
      ],
      "execution_count": 18,
      "outputs": [
        {
          "output_type": "stream",
          "text": [
            "Answer 5: 2 3 4 7\n"
          ],
          "name": "stdout"
        }
      ]
    },
    {
      "cell_type": "markdown",
      "metadata": {
        "id": "gw7zRTdUV84N"
      },
      "source": [
        "Кросс-валидация на лучших параметрах по графикам"
      ]
    },
    {
      "cell_type": "code",
      "metadata": {
        "id": "Xkdf-ZqJoHT4",
        "colab": {
          "base_uri": "https://localhost:8080/"
        },
        "outputId": "6575eb22-fab1-431f-db2c-26d22683b657"
      },
      "source": [
        "model = RandomForestClassifier(n_jobs=-1, n_estimators=200, max_features=10, max_depth=15)\n",
        "n_cross_val_score(model, X, y);"
      ],
      "execution_count": 19,
      "outputs": [
        {
          "output_type": "stream",
          "text": [
            "Result0: 0.9482371198013656\n",
            "Result1: 0.9482340161390439\n",
            "Result2: 0.948792675356921\n",
            "Median: 0.9482371198013656\n",
            "\n"
          ],
          "name": "stdout"
        }
      ]
    }
  ]
}