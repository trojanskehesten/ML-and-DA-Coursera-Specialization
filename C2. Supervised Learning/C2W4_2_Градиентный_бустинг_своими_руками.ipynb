{
  "nbformat": 4,
  "nbformat_minor": 0,
  "metadata": {
    "kernelspec": {
      "display_name": "Python 3",
      "language": "python",
      "name": "python3"
    },
    "language_info": {
      "codemirror_mode": {
        "name": "ipython",
        "version": 3
      },
      "file_extension": ".py",
      "mimetype": "text/x-python",
      "name": "python",
      "nbconvert_exporter": "python",
      "pygments_lexer": "ipython3",
      "version": "3.6.8"
    },
    "colab": {
      "name": "C2W4.2.Градиентный бустинг своими руками.ipynb",
      "provenance": [],
      "collapsed_sections": []
    }
  },
  "cells": [
    {
      "cell_type": "markdown",
      "metadata": {
        "id": "jNN1T60rqIlR"
      },
      "source": [
        "# Градиентный бустинг своими руками\n",
        "\n",
        "**Внимание:** в тексте задания произошли изменения - поменялось число деревьев (теперь 50), правило изменения величины шага в задании 3 и добавился параметр `random_state` у решающего дерева. Правильные ответы не поменялись, но теперь их проще получить. Также исправлена опечатка в функции `gbm_predict`.\n",
        "\n",
        "В этом задании будет использоваться датасет `boston` из `sklearn.datasets`. Оставьте последние 25% объектов для контроля качества, разделив `X` и `y` на `X_train`, `y_train` и `X_test`, `y_test`.\n",
        "\n",
        "Целью задания будет реализовать простой вариант градиентного бустинга над регрессионными деревьями для случая квадратичной функции потерь."
      ]
    },
    {
      "cell_type": "code",
      "metadata": {
        "id": "_NUwS2Q8hMSP"
      },
      "source": [
        "from sklearn.datasets import load_boston\n",
        "from sklearn.model_selection import train_test_split\n",
        "\n",
        "from sklearn.tree import DecisionTreeRegressor\n",
        "from sklearn.metrics import mean_squared_error\n",
        "\n",
        "import xgboost as xgb\n",
        "import matplotlib.pyplot as plt\n",
        "\n",
        "from sklearn.linear_model import LinearRegression\n",
        "\n",
        "import numpy as np"
      ],
      "execution_count": 1,
      "outputs": []
    },
    {
      "cell_type": "code",
      "metadata": {
        "id": "XlGl-rHuTUEI",
        "colab": {
          "base_uri": "https://localhost:8080/"
        },
        "outputId": "d276f5d3-42e6-47f8-a46f-84999a7edcc0"
      },
      "source": [
        "data = load_boston()\n",
        "X = data.data\n",
        "y = data.target\n",
        "# test_size=0.25 by default\n",
        "X_train, X_test, y_train, y_test = train_test_split(X, y, shuffle=False) \n",
        "\n",
        "#train_size = int(X.shape[0]*.75) # 75%\n",
        "#X_train = X[:train_size, :]\n",
        "#X_test = X[train_size:, :]\n",
        "#y_train = y[:train_size]\n",
        "#y_test = y[train_size:]\n",
        "\n",
        "X_train.shape, X_test.shape, y_train.shape, y_test.shape"
      ],
      "execution_count": 2,
      "outputs": [
        {
          "output_type": "execute_result",
          "data": {
            "text/plain": [
              "((379, 13), (127, 13), (379,), (127,))"
            ]
          },
          "metadata": {
            "tags": []
          },
          "execution_count": 2
        }
      ]
    },
    {
      "cell_type": "code",
      "metadata": {
        "id": "97zN4NUPAhVk",
        "colab": {
          "base_uri": "https://localhost:8080/"
        },
        "outputId": "7965b1ac-7757-4830-99ff-3ac0edae1b43"
      },
      "source": [
        "# check test size\n",
        "X_test.shape[0] / (X_test.shape[0] + X_train.shape[0])"
      ],
      "execution_count": 3,
      "outputs": [
        {
          "output_type": "execute_result",
          "data": {
            "text/plain": [
              "0.2509881422924901"
            ]
          },
          "metadata": {
            "tags": []
          },
          "execution_count": 3
        }
      ]
    },
    {
      "cell_type": "markdown",
      "metadata": {
        "id": "TOR46ieGqIlj"
      },
      "source": [
        "## Задание 1\n",
        "\n",
        "Как вы уже знаете из лекций, **бустинг** - это метод построения композиций базовых алгоритмов с помощью последовательного добавления к текущей композиции нового алгоритма с некоторым коэффициентом. \n",
        "\n",
        "Градиентный бустинг обучает каждый новый алгоритм так, чтобы он приближал антиградиент ошибки по ответам композиции на обучающей выборке. Аналогично минимизации функций методом градиентного спуска, в градиентном бустинге мы подправляем композицию, изменяя алгоритм в направлении антиградиента ошибки.\n",
        "\n",
        "Воспользуйтесь формулой из лекций, задающей ответы на обучающей выборке, на которые нужно обучать новый алгоритм (фактически это лишь чуть более подробно расписанный градиент от ошибки), и получите частный ее случай, если функция потерь `L` - квадрат отклонения ответа композиции `a(x)` от правильного ответа `y` на данном `x`.\n",
        "\n",
        "Если вы давно не считали производную самостоятельно, вам поможет таблица производных элементарных функций (которую несложно найти в интернете) и правило дифференцирования сложной функции. После дифференцирования квадрата у вас возникнет множитель 2 — т.к. нам все равно предстоит выбирать коэффициент, с которым будет добавлен новый базовый алгоритм, проигноируйте этот множитель при дальнейшем построении алгоритма."
      ]
    },
    {
      "cell_type": "markdown",
      "metadata": {
        "id": "wAiDnuH6je1q"
      },
      "source": [
        "$L = (A(X) - Y)^2   \\rightarrow   L' _A = 2 (Y - A(X))$  <br>\n",
        "$L' _A = Y - A(X)$"
      ]
    },
    {
      "cell_type": "code",
      "metadata": {
        "id": "kLN2X2USqIlk"
      },
      "source": [
        "def anti_grad(y, pred): \n",
        "    return y - pred"
      ],
      "execution_count": 4,
      "outputs": []
    },
    {
      "cell_type": "markdown",
      "metadata": {
        "id": "uzo421KWqIlq"
      },
      "source": [
        "## Задание 2\n",
        "\n",
        "Заведите массив для объектов `DecisionTreeRegressor` (будем их использовать в качестве базовых алгоритмов) и для вещественных чисел (это будут коэффициенты перед базовыми алгоритмами). \n",
        "\n",
        "В цикле от обучите последовательно 50 решающих деревьев с параметрами `max_depth=5` и `random_state=42` (остальные параметры - по умолчанию). В бустинге зачастую используются сотни и тысячи деревьев, но мы ограничимся 50, чтобы алгоритм работал быстрее, и его было проще отлаживать (т.к. цель задания разобраться, как работает метод). Каждое дерево должно обучаться на одном и том же множестве объектов, но ответы, которые учится прогнозировать дерево, будут меняться в соответствие с полученным в задании 1 правилом. \n",
        "\n",
        "Попробуйте для начала всегда брать коэффициент равным 0.9. Обычно оправдано выбирать коэффициент значительно меньшим - порядка 0.05 или 0.1, но т.к. в нашем учебном примере на стандартном датасете будет всего 50 деревьев, возьмем для начала шаг побольше.\n",
        "\n",
        "В процессе реализации обучения вам потребуется функция, которая будет вычислять прогноз построенной на данный момент композиции деревьев на выборке `X`:\n",
        "\n",
        "```\n",
        "def gbm_predict(X):\n",
        "    return [sum([coeff * algo.predict([x])[0] for algo, coeff in zip(base_algorithms_list, coefficients_list)]) for x in X]\n",
        "(считаем, что base_algorithms_list - список с базовыми алгоритмами, coefficients_list - список с коэффициентами перед алгоритмами)\n",
        "```\n",
        "\n",
        "Эта же функция поможет вам получить прогноз на контрольной выборке и оценить качество работы вашего алгоритма с помощью `mean_squared_error` в `sklearn.metrics`. \n",
        "\n",
        "Возведите результат в степень 0.5, чтобы получить `RMSE`. Полученное значение `RMSE` — **ответ в пункте 2**."
      ]
    },
    {
      "cell_type": "code",
      "metadata": {
        "id": "MrUQPG5UqIlr"
      },
      "source": [
        "def write_answer(answer, n):\n",
        "  with open('answer{}.txt'.format(n), 'w') as f:\n",
        "    f.write(str(answer))\n",
        "\n",
        "def gbm_predict(X, base_algoritms_list, coefficients_list):\n",
        "    return [sum([coeff * algo.predict([x])[0] for algo, coeff in zip(base_algorithms_list, coefficients_list)]) for x in X]"
      ],
      "execution_count": 5,
      "outputs": []
    },
    {
      "cell_type": "code",
      "metadata": {
        "colab": {
          "base_uri": "https://localhost:8080/"
        },
        "id": "YnNW_z6vhIXf",
        "outputId": "d322625a-0c89-416f-d9d4-d90ea9a9c7e7"
      },
      "source": [
        "# init values\n",
        "coef = .9\n",
        "base_algorithms_list = []\n",
        "coefficients_list = []\n",
        "y_cur = y_train\n",
        "n_trees = 50\n",
        "\n",
        "# iter. 50 trees\n",
        "for i in range(n_trees):\n",
        "  tree = DecisionTreeRegressor(max_depth=5, random_state=42).fit(X_train, y_cur)\n",
        "  base_algorithms_list.append(tree)\n",
        "  coefficients_list.append(coef)\n",
        "  y_pred = gbm_predict(X_train, base_algorithms_list, coefficients_list)\n",
        "  y_cur = anti_grad(y_train, y_pred)\n",
        "\n",
        "\n",
        "# answer\n",
        "y_pred = gbm_predict(X_test, base_algorithms_list, coefficients_list)\n",
        "rmse = mean_squared_error(y_test, y_pred) ** .5\n",
        "write_answer(rmse, 2)\n",
        "rmse"
      ],
      "execution_count": 6,
      "outputs": [
        {
          "output_type": "execute_result",
          "data": {
            "text/plain": [
              "5.455565103009402"
            ]
          },
          "metadata": {
            "tags": []
          },
          "execution_count": 6
        }
      ]
    },
    {
      "cell_type": "markdown",
      "metadata": {
        "id": "5HGrLbSLqIly"
      },
      "source": [
        "## Задание 3\n",
        "\n",
        "Вас может также беспокоить, что двигаясь с постоянным шагом, вблизи минимума ошибки ответы на обучающей выборке меняются слишком резко, перескакивая через минимум. \n",
        "\n",
        "Попробуйте уменьшать вес перед каждым алгоритмом с каждой следующей итерацией по формуле `0.9 / (1.0 + i)`, где `i` - номер итерации (от 0 до 49). Используйте качество работы алгоритма как **ответ в пункте 3**. \n",
        "\n",
        "В реальности часто применяется следующая стратегия выбора шага: как только выбран алгоритм, подберем коэффициент перед ним численным методом оптимизации таким образом, чтобы отклонение от правильных ответов было минимальным. Мы не будем предлагать вам реализовать это для выполнения задания, но рекомендуем попробовать разобраться с такой стратегией и реализовать ее при случае для себя."
      ]
    },
    {
      "cell_type": "code",
      "metadata": {
        "id": "kPrW7zRpqIl0",
        "colab": {
          "base_uri": "https://localhost:8080/"
        },
        "outputId": "a9940f80-1bcc-4b02-af6f-484d11cb61dc"
      },
      "source": [
        "# init values\n",
        "coef = .9\n",
        "base_algorithms_list = []\n",
        "coefficients_list = []\n",
        "y_cur = y_train\n",
        "#n_trees = 50\n",
        "\n",
        "#iter. 2-50 trees\n",
        "for i in range(n_trees):\n",
        "  tree = DecisionTreeRegressor(max_depth=5, random_state=42).fit(X_train, y_cur)\n",
        "  base_algorithms_list.append(tree)\n",
        "  coef /= 1. + i\n",
        "  coefficients_list.append(coef)\n",
        "  \n",
        "  y_pred = gbm_predict(X_train, base_algorithms_list, coefficients_list)\n",
        "  y_cur = anti_grad(y_train, y_pred)\n",
        "\n",
        "\n",
        "# answer\n",
        "y_pred = gbm_predict(X_test, base_algorithms_list, coefficients_list)\n",
        "rmse = mean_squared_error(y_test, y_pred) ** .5\n",
        "write_answer(rmse, 3)\n",
        "rmse"
      ],
      "execution_count": 7,
      "outputs": [
        {
          "output_type": "execute_result",
          "data": {
            "text/plain": [
              "4.409771514361549"
            ]
          },
          "metadata": {
            "tags": []
          },
          "execution_count": 7
        }
      ]
    },
    {
      "cell_type": "markdown",
      "metadata": {
        "id": "3wjz5hgTqIl6"
      },
      "source": [
        "## Задание 4\n",
        "\n",
        "Реализованный вами метод - градиентный бустинг над деревьями - очень популярен в машинном обучении. Он представлен как в самой библиотеке `sklearn`, так и в сторонней библиотеке `XGBoost`, которая имеет свой питоновский интерфейс. На практике `XGBoost` работает заметно лучше `GradientBoostingRegressor` из `sklearn`, но для этого задания вы можете использовать любую реализацию. \n",
        "\n",
        "Исследуйте, переобучается ли градиентный бустинг с ростом числа итераций (и подумайте, почему), а также с ростом глубины деревьев. На основе наблюдений выпишите через пробел номера правильных из приведенных ниже утверждений в порядке возрастания номера (это будет **ответ в п.4**):"
      ]
    },
    {
      "cell_type": "markdown",
      "metadata": {
        "id": "nynGScexqcOq"
      },
      "source": [
        "**Влияние числа деревьев на переобучаемость XGB**"
      ]
    },
    {
      "cell_type": "code",
      "metadata": {
        "id": "n9vxVup7Baqz",
        "colab": {
          "base_uri": "https://localhost:8080/",
          "height": 446
        },
        "outputId": "c9bf19b9-91df-4fcf-8626-b0bf42e8d516"
      },
      "source": [
        "trees_list = np.arange(50, 501, 50)\n",
        "score_tr_list = []\n",
        "score_te_list = []\n",
        "\n",
        "for trees in trees_list:\n",
        "  estimator = xgb.XGBRegressor(n_estimators=trees, max_depth=4)\n",
        "  estimator.fit(X_train, y_train)\n",
        "\n",
        "  score_train = mean_squared_error(y_train, estimator.predict(X_train))\n",
        "  score_test = mean_squared_error(y_test, estimator.predict(X_test))\n",
        "  score_tr_list.append(score_train)\n",
        "  score_te_list.append(score_test)\n",
        "\n",
        "plt.plot(trees_list, score_tr_list, 'r', label='train')\n",
        "plt.plot(trees_list, score_te_list, 'g', label='test')\n",
        "plt.xlabel('trees number')\n",
        "plt.ylabel('MSE')\n",
        "plt.legend();"
      ],
      "execution_count": 8,
      "outputs": [
        {
          "output_type": "stream",
          "text": [
            "[20:38:06] WARNING: /workspace/src/objective/regression_obj.cu:152: reg:linear is now deprecated in favor of reg:squarederror.\n",
            "[20:38:06] WARNING: /workspace/src/objective/regression_obj.cu:152: reg:linear is now deprecated in favor of reg:squarederror.\n",
            "[20:38:06] WARNING: /workspace/src/objective/regression_obj.cu:152: reg:linear is now deprecated in favor of reg:squarederror.\n",
            "[20:38:06] WARNING: /workspace/src/objective/regression_obj.cu:152: reg:linear is now deprecated in favor of reg:squarederror.\n",
            "[20:38:06] WARNING: /workspace/src/objective/regression_obj.cu:152: reg:linear is now deprecated in favor of reg:squarederror.\n",
            "[20:38:06] WARNING: /workspace/src/objective/regression_obj.cu:152: reg:linear is now deprecated in favor of reg:squarederror.\n",
            "[20:38:06] WARNING: /workspace/src/objective/regression_obj.cu:152: reg:linear is now deprecated in favor of reg:squarederror.\n",
            "[20:38:06] WARNING: /workspace/src/objective/regression_obj.cu:152: reg:linear is now deprecated in favor of reg:squarederror.\n",
            "[20:38:07] WARNING: /workspace/src/objective/regression_obj.cu:152: reg:linear is now deprecated in favor of reg:squarederror.\n",
            "[20:38:07] WARNING: /workspace/src/objective/regression_obj.cu:152: reg:linear is now deprecated in favor of reg:squarederror.\n"
          ],
          "name": "stdout"
        },
        {
          "output_type": "display_data",
          "data": {
            "image/png": "[encoded data removed]",
            "text/plain": [
              "<Figure size 432x288 with 1 Axes>"
            ]
          },
          "metadata": {
            "tags": [],
            "needs_background": "light"
          }
        }
      ]
    },
    {
      "cell_type": "code",
      "metadata": {
        "colab": {
          "base_uri": "https://localhost:8080/",
          "height": 296
        },
        "id": "3ftj1i4yo9jI",
        "outputId": "7a32d1b6-9a50-4d92-d6ff-e7902664a072"
      },
      "source": [
        "print('Построим раздельно для наглядности')\n",
        "plt.figure(figsize=(10,4))\n",
        "plt.subplot(121)\n",
        "plt.plot(trees_list, score_te_list, 'g', label='test')\n",
        "plt.xlabel('trees number'); plt.ylabel('MSE'); plt.grid(); plt.legend();\n",
        "plt.subplot(122)\n",
        "plt.plot(trees_list, score_tr_list, 'r', label='train')\n",
        "plt.xlabel('trees number'); plt.ylabel('MSE'); plt.grid(); plt.legend();"
      ],
      "execution_count": 9,
      "outputs": [
        {
          "output_type": "stream",
          "text": [
            "Построим раздельно для наглядности\n"
          ],
          "name": "stdout"
        },
        {
          "output_type": "display_data",
          "data": {
            "image/png": "[encoded data removed]",
            "text/plain": [
              "<Figure size 720x288 with 2 Axes>"
            ]
          },
          "metadata": {
            "tags": [],
            "needs_background": "light"
          }
        }
      ]
    },
    {
      "cell_type": "markdown",
      "metadata": {
        "id": "UTysD0bSqlCc"
      },
      "source": [
        "**Влияние глубины деревьев на переобучаемость XGB**"
      ]
    },
    {
      "cell_type": "code",
      "metadata": {
        "id": "i-eyBbuqFmcI",
        "colab": {
          "base_uri": "https://localhost:8080/",
          "height": 530
        },
        "outputId": "1fc3f920-dd19-4f85-a555-b870d4d4d015"
      },
      "source": [
        "depth_list = np.arange(1, 16) #[1, 2, 3, 4, 7, 10, 15, 20, 25]\n",
        "score_tr_list = []\n",
        "score_te_list = []\n",
        "\n",
        "for depth in depth_list:\n",
        "  estimator = xgb.XGBRegressor(max_depth=depth, n_estimators=500)\n",
        "  estimator.fit(X_train, y_train)\n",
        "  score_train = mean_squared_error(y_train, estimator.predict(X_train))\n",
        "  score_test = mean_squared_error(y_test, estimator.predict(X_test))\n",
        "  score_tr_list.append(score_train)\n",
        "  score_te_list.append(score_test)\n",
        "\n",
        "plt.plot(depth_list, score_tr_list, 'r', label='train')\n",
        "plt.plot(depth_list, score_te_list, 'g', label='test');\n",
        "plt.xlabel('max depth')\n",
        "plt.ylabel('MSE')\n",
        "plt.legend();"
      ],
      "execution_count": 10,
      "outputs": [
        {
          "output_type": "stream",
          "text": [
            "[20:38:08] WARNING: /workspace/src/objective/regression_obj.cu:152: reg:linear is now deprecated in favor of reg:squarederror.\n",
            "[20:38:08] WARNING: /workspace/src/objective/regression_obj.cu:152: reg:linear is now deprecated in favor of reg:squarederror.\n",
            "[20:38:08] WARNING: /workspace/src/objective/regression_obj.cu:152: reg:linear is now deprecated in favor of reg:squarederror.\n",
            "[20:38:08] WARNING: /workspace/src/objective/regression_obj.cu:152: reg:linear is now deprecated in favor of reg:squarederror.\n",
            "[20:38:08] WARNING: /workspace/src/objective/regression_obj.cu:152: reg:linear is now deprecated in favor of reg:squarederror.\n",
            "[20:38:09] WARNING: /workspace/src/objective/regression_obj.cu:152: reg:linear is now deprecated in favor of reg:squarederror.\n",
            "[20:38:09] WARNING: /workspace/src/objective/regression_obj.cu:152: reg:linear is now deprecated in favor of reg:squarederror.\n",
            "[20:38:10] WARNING: /workspace/src/objective/regression_obj.cu:152: reg:linear is now deprecated in favor of reg:squarederror.\n",
            "[20:38:10] WARNING: /workspace/src/objective/regression_obj.cu:152: reg:linear is now deprecated in favor of reg:squarederror.\n",
            "[20:38:10] WARNING: /workspace/src/objective/regression_obj.cu:152: reg:linear is now deprecated in favor of reg:squarederror.\n",
            "[20:38:11] WARNING: /workspace/src/objective/regression_obj.cu:152: reg:linear is now deprecated in favor of reg:squarederror.\n",
            "[20:38:11] WARNING: /workspace/src/objective/regression_obj.cu:152: reg:linear is now deprecated in favor of reg:squarederror.\n",
            "[20:38:11] WARNING: /workspace/src/objective/regression_obj.cu:152: reg:linear is now deprecated in favor of reg:squarederror.\n",
            "[20:38:12] WARNING: /workspace/src/objective/regression_obj.cu:152: reg:linear is now deprecated in favor of reg:squarederror.\n",
            "[20:38:12] WARNING: /workspace/src/objective/regression_obj.cu:152: reg:linear is now deprecated in favor of reg:squarederror.\n"
          ],
          "name": "stdout"
        },
        {
          "output_type": "display_data",
          "data": {
            "image/png": "[encoded data removed]",
            "text/plain": [
              "<Figure size 432x288 with 1 Axes>"
            ]
          },
          "metadata": {
            "tags": [],
            "needs_background": "light"
          }
        }
      ]
    },
    {
      "cell_type": "markdown",
      "metadata": {
        "id": "STwZy9I7HOEA"
      },
      "source": [
        "1) С увеличением числа деревьев, начиная с некоторого момента, качество работы градиентного бустинга не меняется существенно.\n",
        "\n",
        "**2) С увеличением числа деревьев, начиная с некоторого момента, градиентный бустинг начинает переобучаться.**\n",
        "\n",
        "**3) С ростом глубины деревьев, начиная с некоторого момента, качество работы градиентного бустинга на тестовой выборке начинает ухудшаться.**\n",
        "\n",
        "4) С ростом глубины деревьев, начиная с некоторого момента, качество работы градиентного бустинга перестает существенно изменяться"
      ]
    },
    {
      "cell_type": "code",
      "metadata": {
        "id": "m4LibA27qIl8"
      },
      "source": [
        "ans = '2 3'\n",
        "write_answer(ans, 4)"
      ],
      "execution_count": 11,
      "outputs": []
    },
    {
      "cell_type": "markdown",
      "metadata": {
        "id": "wWpJJJJsqImF"
      },
      "source": [
        "## Задание 5\n",
        "\n",
        "Сравните получаемое с помощью градиентного бустинга качество с качеством работы линейной регрессии. \n",
        "\n",
        "Для этого обучите `LinearRegression` из `sklearn.linear_model` (с параметрами по умолчанию) на обучающей выборке и оцените для прогнозов полученного алгоритма на тестовой выборке `RMSE`. Полученное качество - ответ в **пункте 5**. \n",
        "\n",
        "В данном примере качество работы простой модели должно было оказаться хуже, но не стоит забывать, что так бывает не всегда. В заданиях к этому курсу вы еще встретите пример обратной ситуации."
      ]
    },
    {
      "cell_type": "code",
      "metadata": {
        "id": "EHFQst2TqImG",
        "colab": {
          "base_uri": "https://localhost:8080/"
        },
        "outputId": "350a23f9-ee52-46d0-c494-d8f4777f943b"
      },
      "source": [
        "pred = LinearRegression().fit(X_train, y_train).predict(X_test)\n",
        "rmse = np.sqrt(mean_squared_error(y_test, pred))\n",
        "\n",
        "write_answer(rmse, 5)\n",
        "rmse"
      ],
      "execution_count": 12,
      "outputs": [
        {
          "output_type": "execute_result",
          "data": {
            "text/plain": [
              "8.254979753549398"
            ]
          },
          "metadata": {
            "tags": []
          },
          "execution_count": 12
        }
      ]
    }
  ]
}