{
  "nbformat": 4,
  "nbformat_minor": 0,
  "metadata": {
    "kernelspec": {
      "display_name": "Python 3",
      "language": "python",
      "name": "python3"
    },
    "language_info": {
      "codemirror_mode": {
        "name": "ipython",
        "version": 3
      },
      "file_extension": ".py",
      "mimetype": "text/x-python",
      "name": "python",
      "nbconvert_exporter": "python",
      "pygments_lexer": "ipython3",
      "version": "3.6.5"
    },
    "colab": {
      "name": "C2W1.2.Линейная регрессия и стохастический градиентный спуск.ipynb",
      "provenance": [],
      "collapsed_sections": []
    }
  },
  "cells": [
    {
      "cell_type": "markdown",
      "metadata": {
        "id": "P0WX3KnAv7Gu"
      },
      "source": [
        "**Корректность проверена на Python 3.6:**\n",
        "+ numpy 1.15.4\n",
        "+ pandas 0.23.4"
      ]
    },
    {
      "cell_type": "markdown",
      "metadata": {
        "id": "6rZK-I1Gv7Gv"
      },
      "source": [
        "# Линейная регрессия и стохастический градиентный спуск"
      ]
    },
    {
      "cell_type": "markdown",
      "metadata": {
        "id": "fe_3MFKuv7Gw"
      },
      "source": [
        "Задание основано на материалах лекций по линейной регрессии и градиентному спуску. Вы будете прогнозировать выручку компании в зависимости от уровня ее инвестиций в рекламу по TV, в газетах и по радио."
      ]
    },
    {
      "cell_type": "markdown",
      "metadata": {
        "id": "E_7ffn1kv7Gx"
      },
      "source": [
        "## Вы научитесь:\n",
        "- решать задачу восстановления линейной регрессии\n",
        "- реализовывать стохастический градиентный спуск для ее настройки\n",
        "- решать задачу линейной регрессии аналитически"
      ]
    },
    {
      "cell_type": "markdown",
      "metadata": {
        "id": "TFYS3cnhv7Gz"
      },
      "source": [
        "## Введение\n",
        "Линейная регрессия - один из наиболее хорошо изученных методов машинного обучения, позволяющий прогнозировать значения количественного признака в виде линейной комбинации прочих признаков с параметрами - весами модели. Оптимальные (в смысле минимальности некоторого функционала ошибки) параметры линейной регрессии можно найти аналитически с помощью нормального уравнения или численно с помощью методов оптимизации.  "
      ]
    },
    {
      "cell_type": "markdown",
      "metadata": {
        "id": "8Z5tPhr5v7G0"
      },
      "source": [
        "Линейная регрессия использует простой функционал качества - среднеквадратичную ошибку. Мы будем работать с выборкой, содержащей 3 признака. Для настройки параметров (весов) модели решается следующая задача:\n",
        "$$\\Large \\frac{1}{\\ell}\\sum_{i=1}^\\ell{{((w_0 + w_1x_{i1} + w_2x_{i2} +  w_3x_{i3}) - y_i)}^2} \\rightarrow \\min_{w_0, w_1, w_2, w_3},$$\n",
        "где $x_{i1}, x_{i2}, x_{i3}$ - значения признаков $i$-го объекта, $y_i$ - значение целевого признака $i$-го объекта, $\\ell$ - число объектов в обучающей выборке."
      ]
    },
    {
      "cell_type": "markdown",
      "metadata": {
        "id": "WoLAIGsmv7G1"
      },
      "source": [
        "## Градиентный спуск\n",
        "Параметры $w_0, w_1, w_2, w_3$, по которым минимизируется среднеквадратичная ошибка, можно находить численно с помощью градиентного спуска.\n",
        "Градиентный шаг для весов будет выглядеть следующим образом:\n",
        "$$\\Large w_0 \\leftarrow w_0 - \\frac{2\\eta}{\\ell} \\sum_{i=1}^\\ell{{((w_0 + w_1x_{i1} + w_2x_{i2} +  w_3x_{i3}) - y_i)}}$$\n",
        "$$\\Large w_j \\leftarrow w_j - \\frac{2\\eta}{\\ell} \\sum_{i=1}^\\ell{{x_{ij}((w_0 + w_1x_{i1} + w_2x_{i2} +  w_3x_{i3}) - y_i)}},\\ j \\in \\{1,2,3\\}$$\n",
        "Здесь $\\eta$ - параметр, шаг градиентного спуска."
      ]
    },
    {
      "cell_type": "markdown",
      "metadata": {
        "id": "O53mg7Hcv7G3"
      },
      "source": [
        "## Стохастический градиентный спуск\n",
        "Проблема градиентного спуска, описанного выше, в том, что на больших выборках считать на каждом шаге градиент по всем имеющимся данным может быть очень вычислительно сложно. \n",
        "В стохастическом варианте градиентного спуска поправки для весов вычисляются только с учетом одного случайно взятого объекта обучающей выборки:\n",
        "$$\\Large w_0 \\leftarrow w_0 - \\frac{2\\eta}{\\ell} {((w_0 + w_1x_{k1} + w_2x_{k2} +  w_3x_{k3}) - y_k)}$$\n",
        "$$\\Large w_j \\leftarrow w_j - \\frac{2\\eta}{\\ell} {x_{kj}((w_0 + w_1x_{k1} + w_2x_{k2} +  w_3x_{k3}) - y_k)},\\ j \\in \\{1,2,3\\},$$\n",
        "где $k$ - случайный индекс, $k \\in \\{1, \\ldots, \\ell\\}$."
      ]
    },
    {
      "cell_type": "markdown",
      "metadata": {
        "id": "n-y9ToBlv7G5"
      },
      "source": [
        "## Нормальное уравнение \n",
        "Нахождение вектора оптимальных весов $w$ может быть сделано и аналитически.\n",
        "Мы хотим найти такой вектор весов $w$, чтобы вектор $y$, приближающий целевой признак, получался умножением матрицы $X$ (состоящей из всех признаков объектов обучающей выборки, кроме целевого) на вектор весов $w$. То есть, чтобы выполнялось матричное уравнение:\n",
        "$$\\Large y = Xw$$\n",
        "Домножением слева на $X^T$ получаем:\n",
        "$$\\Large X^Ty = X^TXw$$\n",
        "Это хорошо, поскольку теперь матрица $X^TX$ - квадратная, и можно найти решение (вектор $w$) в виде:\n",
        "$$\\Large w = {(X^TX)}^{-1}X^Ty$$\n",
        "Матрица ${(X^TX)}^{-1}X^T$ - [*псевдообратная*](https://ru.wikipedia.org/wiki/Псевдообратная_матрица) для матрицы $X$. В NumPy такую матрицу можно вычислить с помощью функции [numpy.linalg.pinv](http://docs.scipy.org/doc/numpy-1.10.0/reference/generated/numpy.linalg.pinv.html).\n",
        "\n",
        "Однако, нахождение псевдообратной матрицы - операция вычислительно сложная и нестабильная в случае малого определителя матрицы $X$ (проблема мультиколлинеарности). \n",
        "На практике лучше находить вектор весов $w$ решением матричного уравнения \n",
        "$$\\Large X^TXw = X^Ty$$Это может быть сделано с помощью функции [numpy.linalg.solve](http://docs.scipy.org/doc/numpy-1.10.1/reference/generated/numpy.linalg.solve.html).\n",
        "\n",
        "Но все же на практике для больших матриц $X$ быстрее работает градиентный спуск, особенно его стохастическая версия."
      ]
    },
    {
      "cell_type": "markdown",
      "metadata": {
        "id": "2WR0ToRQv7G7"
      },
      "source": [
        "## Инструкции по выполнению"
      ]
    },
    {
      "cell_type": "markdown",
      "metadata": {
        "id": "pnpyIWGKv7G8"
      },
      "source": [
        "**1. Загрузите данные из файла *advertising.csv* в объект pandas DataFrame. [Источник данных](http://www-bcf.usc.edu/~gareth/ISL/data.html).**"
      ]
    },
    {
      "cell_type": "code",
      "metadata": {
        "id": "nB3ZFxgdv7G9"
      },
      "source": [
        "import pandas as pd\n",
        "adver_data = pd.read_csv('advertising.csv')"
      ],
      "execution_count": 1,
      "outputs": []
    },
    {
      "cell_type": "markdown",
      "metadata": {
        "collapsed": true,
        "id": "ygYKZktmv7HK"
      },
      "source": [
        "**Посмотрите на первые 5 записей и на статистику признаков в этом наборе данных.**"
      ]
    },
    {
      "cell_type": "code",
      "metadata": {
        "id": "9_FLWDOcv7HM",
        "colab": {
          "base_uri": "https://localhost:8080/",
          "height": 195
        },
        "outputId": "b24df0bf-03d9-409b-9168-310a2030bf0c"
      },
      "source": [
        "adver_data.head()"
      ],
      "execution_count": 2,
      "outputs": [
        {
          "output_type": "execute_result",
          "data": {
            "text/html": [
              "<div>\n",
              "<style scoped>\n",
              "    .dataframe tbody tr th:only-of-type {\n",
              "        vertical-align: middle;\n",
              "    }\n",
              "\n",
              "    .dataframe tbody tr th {\n",
              "        vertical-align: top;\n",
              "    }\n",
              "\n",
              "    .dataframe thead th {\n",
              "        text-align: right;\n",
              "    }\n",
              "</style>\n",
              "<table border=\"1\" class=\"dataframe\">\n",
              "  <thead>\n",
              "    <tr style=\"text-align: right;\">\n",
              "      <th></th>\n",
              "      <th>TV</th>\n",
              "      <th>Radio</th>\n",
              "      <th>Newspaper</th>\n",
              "      <th>Sales</th>\n",
              "    </tr>\n",
              "  </thead>\n",
              "  <tbody>\n",
              "    <tr>\n",
              "      <th>1</th>\n",
              "      <td>230.1</td>\n",
              "      <td>37.8</td>\n",
              "      <td>69.2</td>\n",
              "      <td>22.1</td>\n",
              "    </tr>\n",
              "    <tr>\n",
              "      <th>2</th>\n",
              "      <td>44.5</td>\n",
              "      <td>39.3</td>\n",
              "      <td>45.1</td>\n",
              "      <td>10.4</td>\n",
              "    </tr>\n",
              "    <tr>\n",
              "      <th>3</th>\n",
              "      <td>17.2</td>\n",
              "      <td>45.9</td>\n",
              "      <td>69.3</td>\n",
              "      <td>9.3</td>\n",
              "    </tr>\n",
              "    <tr>\n",
              "      <th>4</th>\n",
              "      <td>151.5</td>\n",
              "      <td>41.3</td>\n",
              "      <td>58.5</td>\n",
              "      <td>18.5</td>\n",
              "    </tr>\n",
              "    <tr>\n",
              "      <th>5</th>\n",
              "      <td>180.8</td>\n",
              "      <td>10.8</td>\n",
              "      <td>58.4</td>\n",
              "      <td>12.9</td>\n",
              "    </tr>\n",
              "  </tbody>\n",
              "</table>\n",
              "</div>"
            ],
            "text/plain": [
              "      TV  Radio  Newspaper  Sales\n",
              "1  230.1   37.8       69.2   22.1\n",
              "2   44.5   39.3       45.1   10.4\n",
              "3   17.2   45.9       69.3    9.3\n",
              "4  151.5   41.3       58.5   18.5\n",
              "5  180.8   10.8       58.4   12.9"
            ]
          },
          "metadata": {
            "tags": []
          },
          "execution_count": 2
        }
      ]
    },
    {
      "cell_type": "code",
      "metadata": {
        "id": "KwJFSESKv7HZ",
        "colab": {
          "base_uri": "https://localhost:8080/",
          "height": 548
        },
        "outputId": "c9882194-03a0-48b1-bbde-c3395d254a46"
      },
      "source": [
        "import matplotlib.pyplot as plt\n",
        "adver_data.hist()\n",
        "adver_data.describe()"
      ],
      "execution_count": 3,
      "outputs": [
        {
          "output_type": "execute_result",
          "data": {
            "text/html": [
              "<div>\n",
              "<style scoped>\n",
              "    .dataframe tbody tr th:only-of-type {\n",
              "        vertical-align: middle;\n",
              "    }\n",
              "\n",
              "    .dataframe tbody tr th {\n",
              "        vertical-align: top;\n",
              "    }\n",
              "\n",
              "    .dataframe thead th {\n",
              "        text-align: right;\n",
              "    }\n",
              "</style>\n",
              "<table border=\"1\" class=\"dataframe\">\n",
              "  <thead>\n",
              "    <tr style=\"text-align: right;\">\n",
              "      <th></th>\n",
              "      <th>TV</th>\n",
              "      <th>Radio</th>\n",
              "      <th>Newspaper</th>\n",
              "      <th>Sales</th>\n",
              "    </tr>\n",
              "  </thead>\n",
              "  <tbody>\n",
              "    <tr>\n",
              "      <th>count</th>\n",
              "      <td>200.000000</td>\n",
              "      <td>200.000000</td>\n",
              "      <td>200.000000</td>\n",
              "      <td>200.000000</td>\n",
              "    </tr>\n",
              "    <tr>\n",
              "      <th>mean</th>\n",
              "      <td>147.042500</td>\n",
              "      <td>23.264000</td>\n",
              "      <td>30.554000</td>\n",
              "      <td>14.022500</td>\n",
              "    </tr>\n",
              "    <tr>\n",
              "      <th>std</th>\n",
              "      <td>85.854236</td>\n",
              "      <td>14.846809</td>\n",
              "      <td>21.778621</td>\n",
              "      <td>5.217457</td>\n",
              "    </tr>\n",
              "    <tr>\n",
              "      <th>min</th>\n",
              "      <td>0.700000</td>\n",
              "      <td>0.000000</td>\n",
              "      <td>0.300000</td>\n",
              "      <td>1.600000</td>\n",
              "    </tr>\n",
              "    <tr>\n",
              "      <th>25%</th>\n",
              "      <td>74.375000</td>\n",
              "      <td>9.975000</td>\n",
              "      <td>12.750000</td>\n",
              "      <td>10.375000</td>\n",
              "    </tr>\n",
              "    <tr>\n",
              "      <th>50%</th>\n",
              "      <td>149.750000</td>\n",
              "      <td>22.900000</td>\n",
              "      <td>25.750000</td>\n",
              "      <td>12.900000</td>\n",
              "    </tr>\n",
              "    <tr>\n",
              "      <th>75%</th>\n",
              "      <td>218.825000</td>\n",
              "      <td>36.525000</td>\n",
              "      <td>45.100000</td>\n",
              "      <td>17.400000</td>\n",
              "    </tr>\n",
              "    <tr>\n",
              "      <th>max</th>\n",
              "      <td>296.400000</td>\n",
              "      <td>49.600000</td>\n",
              "      <td>114.000000</td>\n",
              "      <td>27.000000</td>\n",
              "    </tr>\n",
              "  </tbody>\n",
              "</table>\n",
              "</div>"
            ],
            "text/plain": [
              "               TV       Radio   Newspaper       Sales\n",
              "count  200.000000  200.000000  200.000000  200.000000\n",
              "mean   147.042500   23.264000   30.554000   14.022500\n",
              "std     85.854236   14.846809   21.778621    5.217457\n",
              "min      0.700000    0.000000    0.300000    1.600000\n",
              "25%     74.375000    9.975000   12.750000   10.375000\n",
              "50%    149.750000   22.900000   25.750000   12.900000\n",
              "75%    218.825000   36.525000   45.100000   17.400000\n",
              "max    296.400000   49.600000  114.000000   27.000000"
            ]
          },
          "metadata": {
            "tags": []
          },
          "execution_count": 3
        },
        {
          "output_type": "display_data",
          "data": {
            "image/png": "[encoded data removed]",
            "text/plain": [
              "<Figure size 432x288 with 4 Axes>"
            ]
          },
          "metadata": {
            "tags": [],
            "needs_background": "light"
          }
        }
      ]
    },
    {
      "cell_type": "markdown",
      "metadata": {
        "id": "6VPpGbaAv7He"
      },
      "source": [
        "**Создайте массивы NumPy *X* из столбцов TV, Radio и Newspaper и *y* - из столбца Sales. Используйте атрибут *values* объекта pandas DataFrame.**"
      ]
    },
    {
      "cell_type": "code",
      "metadata": {
        "id": "JcVFaHxPv7Hf"
      },
      "source": [
        "X = adver_data.values[:, :3]\n",
        "y = adver_data.values[:, 3]"
      ],
      "execution_count": 4,
      "outputs": []
    },
    {
      "cell_type": "markdown",
      "metadata": {
        "id": "QcBaxnyPv7Hj"
      },
      "source": [
        "**Отмасштабируйте столбцы матрицы *X*, вычтя из каждого значения среднее по соответствующему столбцу и поделив результат на стандартное отклонение. Для определенности, используйте методы mean и std векторов NumPy (реализация std в Pandas может отличаться). Обратите внимание, что в numpy вызов функции .mean() без параметров возвращает среднее по всем элементам массива, а не по столбцам, как в pandas. Чтобы произвести вычисление по столбцам, необходимо указать параметр axis.**"
      ]
    },
    {
      "cell_type": "code",
      "metadata": {
        "id": "7sk-mkTjv7Hm"
      },
      "source": [
        "import numpy as np\n",
        "means, stds = np.mean(X, axis=0), np.std(X, axis=0)"
      ],
      "execution_count": 5,
      "outputs": []
    },
    {
      "cell_type": "code",
      "metadata": {
        "id": "nxeKzlXov7Hr"
      },
      "source": [
        "X = (X - means) / stds"
      ],
      "execution_count": 6,
      "outputs": []
    },
    {
      "cell_type": "markdown",
      "metadata": {
        "id": "EZizaVeKv7Hu"
      },
      "source": [
        "**Добавьте к матрице *X* столбец из единиц, используя методы *hstack*, *ones* и *reshape* библиотеки NumPy. Вектор из единиц нужен для того, чтобы не обрабатывать отдельно коэффициент $w_0$ линейной регрессии.**"
      ]
    },
    {
      "cell_type": "code",
      "metadata": {
        "id": "c3FkICUUv7Hv"
      },
      "source": [
        "import numpy as np\n",
        "n_rows = X.shape[0]\n",
        "X = np.hstack((np.reshape(np.ones(n_rows), (n_rows, 1)), X))"
      ],
      "execution_count": 7,
      "outputs": []
    },
    {
      "cell_type": "markdown",
      "metadata": {
        "id": "3DrE-OSPv7H2"
      },
      "source": [
        "**2. Реализуйте функцию *mserror* - среднеквадратичную ошибку прогноза. Она принимает два аргумента - объекты Series *y* (значения целевого признака) и *y\\_pred* (предсказанные значения). Не используйте в этой функции циклы - тогда она будет вычислительно неэффективной.**"
      ]
    },
    {
      "cell_type": "code",
      "metadata": {
        "id": "UYpaQhJWv7H3"
      },
      "source": [
        "def mserror(y, y_pred):\n",
        "    return np.mean((y - y_pred) ** 2)"
      ],
      "execution_count": 8,
      "outputs": []
    },
    {
      "cell_type": "markdown",
      "metadata": {
        "id": "h-LsrP6uv7IG"
      },
      "source": [
        "**Какова среднеквадратичная ошибка прогноза значений Sales, если всегда предсказывать медианное значение Sales по исходной выборке? Полученный результат, округленный до 3 знаков после запятой, является ответом на *'1 задание'.***"
      ]
    },
    {
      "cell_type": "code",
      "metadata": {
        "id": "IIm8nAhgU1Gd"
      },
      "source": [
        "def write_answer_to_file(answer, filename):\n",
        "    with open(filename, 'w') as f_out:\n",
        "        f_out.write(str(answer))"
      ],
      "execution_count": 9,
      "outputs": []
    },
    {
      "cell_type": "code",
      "metadata": {
        "id": "Fd4-IDDfv7IH",
        "colab": {
          "base_uri": "https://localhost:8080/"
        },
        "outputId": "6fb12c5c-9f4c-48f9-b358-7b927e40773e"
      },
      "source": [
        "median_y = np.median(y)\n",
        "print(median_y)\n",
        "answer1 = mserror(y, median_y)\n",
        "print(round(answer1, 3))\n",
        "write_answer_to_file(round(answer1, 3), '1.txt')"
      ],
      "execution_count": 10,
      "outputs": [
        {
          "output_type": "stream",
          "text": [
            "12.9\n",
            "28.346\n"
          ],
          "name": "stdout"
        }
      ]
    },
    {
      "cell_type": "markdown",
      "metadata": {
        "id": "7hVV43E4v7IM"
      },
      "source": [
        "**3. Реализуйте функцию *normal_equation*, которая по заданным матрицам (массивам NumPy) *X* и *y* вычисляет вектор весов $w$ согласно нормальному уравнению линейной регрессии.**"
      ]
    },
    {
      "cell_type": "code",
      "metadata": {
        "id": "tLrq6ztRv7IN"
      },
      "source": [
        "def normal_equation(X, y):\n",
        "    return np.dot(np.linalg.pinv(X), y)"
      ],
      "execution_count": 11,
      "outputs": []
    },
    {
      "cell_type": "code",
      "metadata": {
        "id": "mzfcw0xFv7IQ",
        "colab": {
          "base_uri": "https://localhost:8080/"
        },
        "outputId": "d23a47c9-1207-4bbd-b895-8536296f0675"
      },
      "source": [
        "norm_eq_weights = normal_equation(X, y)\n",
        "print(norm_eq_weights)"
      ],
      "execution_count": 12,
      "outputs": [
        {
          "output_type": "stream",
          "text": [
            "[14.0225      3.91925365  2.79206274 -0.02253861]\n"
          ],
          "name": "stdout"
        }
      ]
    },
    {
      "cell_type": "markdown",
      "metadata": {
        "id": "Sog51xWCv7IW"
      },
      "source": [
        "**Какие продажи предсказываются линейной моделью с весами, найденными с помощью нормального уравнения, в случае средних инвестиций в рекламу по ТВ, радио и в газетах? (то есть при нулевых значениях масштабированных признаков TV, Radio и Newspaper). Полученный результат, округленный до 3 знаков после запятой, является ответом на *'2 задание'*.**"
      ]
    },
    {
      "cell_type": "code",
      "metadata": {
        "id": "S5_IU24sv7IY",
        "colab": {
          "base_uri": "https://localhost:8080/"
        },
        "outputId": "9f2a6637-c7c5-44e5-84a9-f98185453045"
      },
      "source": [
        "answer2 = norm_eq_weights[0]\n",
        "print(round(answer2, 3))\n",
        "write_answer_to_file(round(answer2, 3), '2.txt')"
      ],
      "execution_count": 13,
      "outputs": [
        {
          "output_type": "stream",
          "text": [
            "14.022\n"
          ],
          "name": "stdout"
        }
      ]
    },
    {
      "cell_type": "markdown",
      "metadata": {
        "id": "6h208Udfv7Id"
      },
      "source": [
        "**4. Напишите функцию *linear_prediction*, которая принимает на вход матрицу *X* и вектор весов линейной модели *w*, а возвращает вектор прогнозов в виде линейной комбинации столбцов матрицы *X* с весами *w*.**"
      ]
    },
    {
      "cell_type": "code",
      "metadata": {
        "id": "vNBq8AB5v7Ie"
      },
      "source": [
        "def linear_prediction(X, w):\n",
        "    return np.dot(X, w)"
      ],
      "execution_count": 14,
      "outputs": []
    },
    {
      "cell_type": "markdown",
      "metadata": {
        "id": "T-k08VeQv7Ih"
      },
      "source": [
        "**Какова среднеквадратичная ошибка прогноза значений Sales в виде линейной модели с весами, найденными с помощью нормального уравнения?\n",
        "Полученный результат, округленный до 3 знаков после запятой, является ответом на *'3 задание'***"
      ]
    },
    {
      "cell_type": "code",
      "metadata": {
        "id": "1wOcwPQAv7Ii",
        "colab": {
          "base_uri": "https://localhost:8080/"
        },
        "outputId": "eab7cbfa-6ffc-4be1-a4c2-7314b5b2b712"
      },
      "source": [
        "answer3 = mserror(y, linear_prediction(X, norm_eq_weights))\n",
        "print(round(answer3, 3))\n",
        "write_answer_to_file(round(answer3, 3), '3.txt')"
      ],
      "execution_count": 15,
      "outputs": [
        {
          "output_type": "stream",
          "text": [
            "2.784\n"
          ],
          "name": "stdout"
        }
      ]
    },
    {
      "cell_type": "markdown",
      "metadata": {
        "id": "K7977SpPv7Il"
      },
      "source": [
        "**5. Напишите функцию *stochastic_gradient_step*, реализующую шаг стохастического градиентного спуска для линейной регрессии. Функция должна принимать матрицу *X*, вектора *y* и *w*, число *train_ind* - индекс объекта обучающей выборки (строки матрицы *X*), по которому считается изменение весов, а также число *$\\eta$* (eta) - шаг градиентного спуска (по умолчанию *eta*=0.01). Результатом будет вектор обновленных весов. Наша реализация функции будет явно написана для данных с 3 признаками, но несложно модифицировать для любого числа признаков, можете это сделать.**"
      ]
    },
    {
      "cell_type": "code",
      "metadata": {
        "id": "OMyjgIivv7Im"
      },
      "source": [
        "def stochastic_gradient_step(X, y, w, train_ind, eta=0.01):\n",
        "  grad = X[train_ind] * (np.dot(X[train_ind], w) - y[train_ind])\n",
        "  return  w - 2 * eta / X.shape[0] * np.array(grad)"
      ],
      "execution_count": 27,
      "outputs": []
    },
    {
      "cell_type": "markdown",
      "metadata": {
        "id": "bDU_YXgXv7Iw"
      },
      "source": [
        "**6. Напишите функцию *stochastic_gradient_descent*, реализующую стохастический градиентный спуск для линейной регрессии. Функция принимает на вход следующие аргументы:**\n",
        "- X - матрица, соответствующая обучающей выборке\n",
        "- y - вектор значений целевого признака\n",
        "- w_init - вектор начальных весов модели\n",
        "- eta - шаг градиентного спуска (по умолчанию 0.01)\n",
        "- max_iter - максимальное число итераций градиентного спуска (по умолчанию 10000)\n",
        "- max_weight_dist - максимальное евклидово расстояние между векторами весов на соседних итерациях градиентного спуска,\n",
        "при котором алгоритм прекращает работу (по умолчанию 1e-8)\n",
        "- seed - число, используемое для воспроизводимости сгенерированных псевдослучайных чисел (по умолчанию 42)\n",
        "- verbose - флаг печати информации (например, для отладки, по умолчанию False)\n",
        "\n",
        "**На каждой итерации в вектор (список) должно записываться текущее значение среднеквадратичной ошибки. Функция должна возвращать вектор весов $w$, а также вектор (список) ошибок.**"
      ]
    },
    {
      "cell_type": "code",
      "metadata": {
        "id": "zyoljSSGv7Ix"
      },
      "source": [
        "def stochastic_gradient_descent(X, y, w_init, eta=1e-2, max_iter=1e4,\n",
        "                                min_weight_dist=1e-8, seed=42, verbose=False):\n",
        "  # Инициализируем расстояние между векторами весов на соседних\n",
        "  # итерациях большим числом. \n",
        "  weight_dist = np.inf\n",
        "  # Инициализируем вектор весов\n",
        "  w = w_init\n",
        "  # Сюда будем записывать ошибки на каждой итерации\n",
        "  errors = []\n",
        "  # Счетчик итераций\n",
        "  iter_num = 0\n",
        "  # Будем порождать псевдослучайные числа \n",
        "  # (номер объекта, который будет менять веса), а для воспроизводимости\n",
        "  # этой последовательности псевдослучайных чисел используем seed.\n",
        "  np.random.seed(seed)\n",
        "      \n",
        "  # Основной цикл\n",
        "  while weight_dist > min_weight_dist and iter_num < max_iter:\n",
        "    # порождаем псевдослучайный \n",
        "    # индекс объекта обучающей выборки\n",
        "    random_ind = np.random.randint(X.shape[0])\n",
        "    \n",
        "    # Ваш код здесь\n",
        "    w_cur = stochastic_gradient_step(X, y, w, random_ind, eta)\n",
        "    weights_dist = np.linalg.norm(w_cur - w, ord = 2)\n",
        "    w = w_cur\n",
        "\n",
        "    error = mserror(y, linear_prediction(X, w))\n",
        "    errors.append(error)\n",
        "\n",
        "    if iter_num % (max_iter // 10) == 0 and verbose:\n",
        "      print(f'Number of iterations: {iter_num}, mse = {error}')\n",
        "    iter_num += 1\n",
        "\n",
        "  if verbose:\n",
        "    print(f'Number of iterations: {iter_num}, mse = {error}')\n",
        "\n",
        "  return w, errors"
      ],
      "execution_count": 28,
      "outputs": []
    },
    {
      "cell_type": "markdown",
      "metadata": {
        "id": "M7G6-HuCv7I2"
      },
      "source": [
        " **Запустите $10^5$ итераций стохастического градиентного спуска. Укажите вектор начальных весов *w_init*, состоящий из нулей. Оставьте параметры  *eta* и *seed* равными их значениям по умолчанию (*eta*=0.01, *seed*=42 - это важно для проверки ответов).**"
      ]
    },
    {
      "cell_type": "code",
      "metadata": {
        "id": "IU9KmJgFv7I3",
        "colab": {
          "base_uri": "https://localhost:8080/"
        },
        "outputId": "4656834d-e95a-4c90-aea7-b60ae1eaba1c"
      },
      "source": [
        "%%time\n",
        "stoch_grad_desc_weights, stoch_errors_by_iter = stochastic_gradient_descent(X,\n",
        "y, np.zeros(4), max_iter=1e5, verbose=True)"
      ],
      "execution_count": 29,
      "outputs": [
        {
          "output_type": "stream",
          "text": [
            "Number of iterations: 0, mse = 223.66538899863156\n",
            "Number of iterations: 10000, mse = 32.77370117762605\n",
            "Number of iterations: 20000, mse = 6.9608531127741164\n",
            "Number of iterations: 30000, mse = 3.3451220599091753\n",
            "Number of iterations: 40000, mse = 2.866389644569184\n",
            "Number of iterations: 50000, mse = 2.7945362233809146\n",
            "Number of iterations: 60000, mse = 2.786946086629766\n",
            "Number of iterations: 70000, mse = 2.7864437226460548\n",
            "Number of iterations: 80000, mse = 2.784422909418769\n",
            "Number of iterations: 90000, mse = 2.7846218361069957\n",
            "Number of iterations: 100000, mse = 2.786369048218392\n",
            "CPU times: user 4.29 s, sys: 54.4 ms, total: 4.34 s\n",
            "Wall time: 4.33 s\n"
          ],
          "name": "stdout"
        }
      ]
    },
    {
      "cell_type": "markdown",
      "metadata": {
        "id": "HgFsNOzUv7I8"
      },
      "source": [
        "**Посмотрим, чему равна ошибка на первых 50 итерациях стохастического градиентного спуска. Видим, что ошибка не обязательно уменьшается на каждой итерации.**"
      ]
    },
    {
      "cell_type": "code",
      "metadata": {
        "id": "wk5-eoZ3v7I9",
        "colab": {
          "base_uri": "https://localhost:8080/",
          "height": 316
        },
        "outputId": "02897f74-ef4c-4c00-dec1-8ae47bff7832"
      },
      "source": [
        "%pylab inline\n",
        "plot(range(50), stoch_errors_by_iter[:50])\n",
        "xlabel('Iteration number')\n",
        "ylabel('MSE')"
      ],
      "execution_count": 19,
      "outputs": [
        {
          "output_type": "stream",
          "text": [
            "Populating the interactive namespace from numpy and matplotlib\n"
          ],
          "name": "stdout"
        },
        {
          "output_type": "execute_result",
          "data": {
            "text/plain": [
              "Text(0, 0.5, 'MSE')"
            ]
          },
          "metadata": {
            "tags": []
          },
          "execution_count": 19
        },
        {
          "output_type": "display_data",
          "data": {
            "image/png": "[encoded data removed]",
            "text/plain": [
              "<Figure size 432x288 with 1 Axes>"
            ]
          },
          "metadata": {
            "tags": [],
            "needs_background": "light"
          }
        }
      ]
    },
    {
      "cell_type": "markdown",
      "metadata": {
        "id": "J1YQZoEjv7JA"
      },
      "source": [
        "**Теперь посмотрим на зависимость ошибки от номера итерации для $10^5$ итераций стохастического градиентного спуска. Видим, что алгоритм сходится.**"
      ]
    },
    {
      "cell_type": "code",
      "metadata": {
        "id": "mVNTGp00v7JB",
        "colab": {
          "base_uri": "https://localhost:8080/",
          "height": 313
        },
        "outputId": "265ec419-bfd1-4565-9641-2efe0322c468"
      },
      "source": [
        "%pylab inline\n",
        "plot(range(len(stoch_errors_by_iter)), stoch_errors_by_iter)\n",
        "xlabel('Iteration number')\n",
        "ylabel('MSE')"
      ],
      "execution_count": 20,
      "outputs": [
        {
          "output_type": "stream",
          "text": [
            "Populating the interactive namespace from numpy and matplotlib\n"
          ],
          "name": "stdout"
        },
        {
          "output_type": "execute_result",
          "data": {
            "text/plain": [
              "Text(0, 0.5, 'MSE')"
            ]
          },
          "metadata": {
            "tags": []
          },
          "execution_count": 20
        },
        {
          "output_type": "display_data",
          "data": {
            "image/png": "[encoded data removed]",
            "text/plain": [
              "<Figure size 432x288 with 1 Axes>"
            ]
          },
          "metadata": {
            "tags": [],
            "needs_background": "light"
          }
        }
      ]
    },
    {
      "cell_type": "markdown",
      "metadata": {
        "id": "b3ANv_Jvv7JU"
      },
      "source": [
        "**Посмотрим на вектор весов, к которому сошелся метод.**"
      ]
    },
    {
      "cell_type": "code",
      "metadata": {
        "id": "95kesXktv7Ja",
        "colab": {
          "base_uri": "https://localhost:8080/"
        },
        "outputId": "f5f8710b-164c-4600-8b60-21bfd104ed9a"
      },
      "source": [
        "stoch_grad_desc_weights"
      ],
      "execution_count": 21,
      "outputs": [
        {
          "output_type": "execute_result",
          "data": {
            "text/plain": [
              "array([14.01961682,  3.94909052,  2.76783147, -0.04537642])"
            ]
          },
          "metadata": {
            "tags": []
          },
          "execution_count": 21
        }
      ]
    },
    {
      "cell_type": "markdown",
      "metadata": {
        "id": "wDIXuCrev7Jh"
      },
      "source": [
        "**Посмотрим на среднеквадратичную ошибку на последней итерации.**"
      ]
    },
    {
      "cell_type": "code",
      "metadata": {
        "id": "OG9-QUQOv7Jl",
        "colab": {
          "base_uri": "https://localhost:8080/"
        },
        "outputId": "113f71cc-9288-4493-e0bd-9e5b8ad52ac4"
      },
      "source": [
        "stoch_errors_by_iter[-1]"
      ],
      "execution_count": 22,
      "outputs": [
        {
          "output_type": "execute_result",
          "data": {
            "text/plain": [
              "2.786369048218392"
            ]
          },
          "metadata": {
            "tags": []
          },
          "execution_count": 22
        }
      ]
    },
    {
      "cell_type": "markdown",
      "metadata": {
        "id": "97KKUaqVv7Jy"
      },
      "source": [
        "**Какова среднеквадратичная ошибка прогноза значений Sales в виде линейной модели с весами, найденными с помощью градиентного спуска? Полученный результат, округленный до 3 знаков после запятой, является ответом на *'4 задание'*.**"
      ]
    },
    {
      "cell_type": "code",
      "metadata": {
        "id": "lXeB_qe7v7Jz",
        "colab": {
          "base_uri": "https://localhost:8080/"
        },
        "outputId": "ac086b37-9c75-4456-d81b-4097bbb5b8f4"
      },
      "source": [
        "answer4 = mserror(y, linear_prediction(X, stoch_grad_desc_weights))\n",
        "print(round(answer4, 3))\n",
        "write_answer_to_file(answer4, '4.txt')"
      ],
      "execution_count": 23,
      "outputs": [
        {
          "output_type": "stream",
          "text": [
            "2.786\n"
          ],
          "name": "stdout"
        }
      ]
    }
  ]
}