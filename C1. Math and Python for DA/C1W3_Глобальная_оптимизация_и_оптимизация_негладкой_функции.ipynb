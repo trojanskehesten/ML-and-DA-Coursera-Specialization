{
  "nbformat": 4,
  "nbformat_minor": 0,
  "metadata": {
    "colab": {
      "name": "C1W3. Глобальная оптимизация и оптимизация негладкой функции.ipynb",
      "provenance": [],
      "collapsed_sections": [
        "O4FnF-kSRtXU",
        "_5z9Bxz0SDsg"
      ]
    },
    "kernelspec": {
      "name": "python3",
      "display_name": "Python 3"
    }
  },
  "cells": [
    {
      "cell_type": "markdown",
      "metadata": {
        "id": "O4FnF-kSRtXU"
      },
      "source": [
        "# Задача 1. Минимизация гладкой функции"
      ]
    },
    {
      "cell_type": "markdown",
      "metadata": {
        "id": "vt-3z8LrRvC6"
      },
      "source": [
        "**1.** Рассмотрим все ту же функцию из задания по линейной алгебре:\n",
        "**f(x) = sin(x / 5) * exp(x / 10) + 5 * exp(-x / 2)**, но теперь уже на промежутке **[1, 30]**"
      ]
    },
    {
      "cell_type": "markdown",
      "metadata": {
        "id": "az-MR0lNRzlB"
      },
      "source": [
        "**2.** В первом задании будем искать **минимум** этой функции на заданном промежутке с помощью *scipy.optimize*.\n",
        "\n",
        "Разумеется, в дальнейшем вы будете использовать методы оптимизации для более сложных функций, а **f(x)** мы рассмотрим как удобный учебный пример."
      ]
    },
    {
      "cell_type": "code",
      "metadata": {
        "id": "3hHHLszIRzt5"
      },
      "source": [
        "from scipy import optimize"
      ],
      "execution_count": 1,
      "outputs": []
    },
    {
      "cell_type": "markdown",
      "metadata": {
        "id": "4sEHnowzRz2Z"
      },
      "source": [
        "**3.** Напишите на Питоне **функцию**, вычисляющую значение f(x) по известному x. Будьте внимательны: не забывайте про то, что по умолчанию в питоне целые числа делятся нацело, и о том, что функции sin и exp нужно импортировать из модуля math."
      ]
    },
    {
      "cell_type": "code",
      "metadata": {
        "id": "KvvXAW1mRuUp"
      },
      "source": [
        "import numpy as np\n",
        "# import math - лучше не использовать, нет векторизации, например ошибка: f(x)\n",
        "# Деление нацело было python 2!\n",
        "f = lambda x : np.sin(x / 5.) * np.exp(x / 10.) + 5 * np.exp(-x / 2.)\n",
        "x = np.arange(1, 30, .1)"
      ],
      "execution_count": 2,
      "outputs": []
    },
    {
      "cell_type": "code",
      "metadata": {
        "id": "PjLhQIA5ka6H",
        "colab": {
          "base_uri": "https://localhost:8080/",
          "height": 0
        },
        "outputId": "751cc38e-8c34-4ea1-8a30-8b61f11a4ae1"
      },
      "source": [
        "import matplotlib.pyplot as plt\n",
        "\n",
        "def standart_plot(x, y, xlabel='x', ylabel='f(x)', title='Зависимость f(x) от x'):\n",
        "  import matplotlib.pyplot as plt\n",
        "  plt.plot(x, y) # Построение графика\n",
        "  plt.xlabel(xlabel) # Метка по оси x в формате TeX\n",
        "  plt.ylabel(ylabel) # Метка по оси y в формате TeX\n",
        "  plt.grid(True) # Сетка\n",
        "  plt.legend(( ylabel, ))\n",
        "  plt.title(title)\n",
        "  plt.show() # Показать график\n",
        "\n",
        "standart_plot(x, f(x), 'x', 'f(x)', 'f(x) при x = [1 30]')"
      ],
      "execution_count": 3,
      "outputs": [
        {
          "output_type": "display_data",
          "data": {
            "image/png": "[encoded data removed]",
            "text/plain": [
              "<Figure size 432x288 with 1 Axes>"
            ]
          },
          "metadata": {
            "tags": [],
            "needs_background": "light"
          }
        }
      ]
    },
    {
      "cell_type": "markdown",
      "metadata": {
        "id": "xVZbBmgrR0Gx"
      },
      "source": [
        "**4.** Изучите примеры использования scipy.optimize.minimize в документации Scipy (см. **\"Материалы\"**)\r\n",
        "\r\n",
        "**Материалы (cправка по функциям):**\r\n",
        "\r\n",
        "[пакета scipy.optimize](http://docs.scipy.org/doc/scipy/reference/optimize.html)\r\n",
        "\r\n",
        "[Matplotlib User Guide](http://matplotlib.org/users/index.html)"
      ]
    },
    {
      "cell_type": "markdown",
      "metadata": {
        "id": "7IhzQNOiR0WD"
      },
      "source": [
        "**5.** Попробуйте найти минимум, используя **стандартные параметры** в функции scipy.optimize.minimize (т.е. задав только функцию и начальное приближение). Попробуйте менять начальное приближение и изучить, меняется ли результат."
      ]
    },
    {
      "cell_type": "code",
      "metadata": {
        "id": "iD7pRUgjlzLv",
        "colab": {
          "base_uri": "https://localhost:8080/"
        },
        "outputId": "762512e3-30ec-4c83-f046-c626ea82ec4b"
      },
      "source": [
        "loc_min = optimize.minimize(f, 5)\n",
        "loc_min.x, loc_min.fun"
      ],
      "execution_count": 4,
      "outputs": [
        {
          "output_type": "execute_result",
          "data": {
            "text/plain": [
              "(array([4.13628832]), 1.745268290331984)"
            ]
          },
          "metadata": {
            "tags": []
          },
          "execution_count": 4
        }
      ]
    },
    {
      "cell_type": "code",
      "metadata": {
        "id": "wOMFug8VmCmU",
        "colab": {
          "base_uri": "https://localhost:8080/"
        },
        "outputId": "79bcefc6-bebe-4ae9-d74a-75003059f72b"
      },
      "source": [
        "loc_min = optimize.minimize(f, 15)\n",
        "loc_min"
      ],
      "execution_count": 5,
      "outputs": [
        {
          "output_type": "execute_result",
          "data": {
            "text/plain": [
              "      fun: -11.503580757136064\n",
              " hess_inv: array([[49.07086822]])\n",
              "      jac: array([-0.62828672])\n",
              "  message: 'Desired error not necessarily achieved due to precision loss.'\n",
              "     nfev: 63\n",
              "      nit: 1\n",
              "     njev: 19\n",
              "   status: 2\n",
              "  success: False\n",
              "        x: array([24.67766109])"
            ]
          },
          "metadata": {
            "tags": []
          },
          "execution_count": 5
        }
      ]
    },
    {
      "cell_type": "code",
      "metadata": {
        "id": "fbPXJ2rsmM-S",
        "colab": {
          "base_uri": "https://localhost:8080/"
        },
        "outputId": "2420c71b-4bb1-48a1-fd98-b36b24a35e39"
      },
      "source": [
        "loc_min = optimize.minimize(f, 30)\n",
        "loc_min.x, loc_min.fun"
      ],
      "execution_count": 6,
      "outputs": [
        {
          "output_type": "execute_result",
          "data": {
            "text/plain": [
              "(array([25.88019339]), -11.898894665981285)"
            ]
          },
          "metadata": {
            "tags": []
          },
          "execution_count": 6
        }
      ]
    },
    {
      "cell_type": "markdown",
      "metadata": {
        "id": "1LCyF5XLR0jJ"
      },
      "source": [
        "**6.** Укажите в scipy.optimize.minimize в качестве метода **BFGS** (один из самых точных в большинстве случаев градиентных методов оптимизации), запустите из начального приближения x=2. Градиент функции при этом указывать не нужно – он будет оценен численно. Полученное значение функции в точке минимума - ваш первый ответ по заданию 1, его надо записать с точностью до 2 знака после запятой."
      ]
    },
    {
      "cell_type": "code",
      "metadata": {
        "id": "uMPgFdhXR0or",
        "colab": {
          "base_uri": "https://localhost:8080/"
        },
        "outputId": "bef161c6-0081-4d28-b178-fceac85a3149"
      },
      "source": [
        "loc_min = optimize.minimize(f, 2, method='BFGS')\n",
        "ans11 = round(loc_min.fun, 2)\n",
        "print('Ответ 1.1:', ans11)\n",
        "loc_min.x, loc_min.fun"
      ],
      "execution_count": 7,
      "outputs": [
        {
          "output_type": "stream",
          "text": [
            "Ответ 1.1: 1.75\n"
          ],
          "name": "stdout"
        },
        {
          "output_type": "execute_result",
          "data": {
            "text/plain": [
              "(array([4.13627618]), 1.7452682903449388)"
            ]
          },
          "metadata": {
            "tags": []
          },
          "execution_count": 7
        }
      ]
    },
    {
      "cell_type": "markdown",
      "metadata": {
        "id": "zUW2Hb7AR-uh"
      },
      "source": [
        "**7.** Теперь измените **начальное приближение** на x=30. Значение функции в точке минимума - ваш второй ответ по заданию 1, его надо записать через пробел после первого, с точностью до 2 знака после запятой."
      ]
    },
    {
      "cell_type": "code",
      "metadata": {
        "id": "QHCDZKGYncRV",
        "colab": {
          "base_uri": "https://localhost:8080/"
        },
        "outputId": "9e47e988-93e2-4704-d088-7964c5b0aa9d"
      },
      "source": [
        "glob_min_bfgs = optimize.minimize(f, 30, method='BFGS')\n",
        "ans12 = round(glob_min_bfgs.fun, 2)\n",
        "print('Ответ 1.2:', ans12)\n",
        "glob_min_bfgs.x, glob_min_bfgs.fun"
      ],
      "execution_count": 8,
      "outputs": [
        {
          "output_type": "stream",
          "text": [
            "Ответ 1.2: -11.9\n"
          ],
          "name": "stdout"
        },
        {
          "output_type": "execute_result",
          "data": {
            "text/plain": [
              "(array([25.88019339]), -11.898894665981285)"
            ]
          },
          "metadata": {
            "tags": []
          },
          "execution_count": 8
        }
      ]
    },
    {
      "cell_type": "code",
      "metadata": {
        "id": "mhkQ1McYR-4J",
        "colab": {
          "base_uri": "https://localhost:8080/"
        },
        "outputId": "68b7a46f-7256-48dc-bb97-c280ed3c30cd"
      },
      "source": [
        "print('Ответ 1:', ans11, ans12)\n",
        "with open('submission-1.txt', 'w') as file_obj:\n",
        "    file_obj.write('%.2f %.2f' % (ans11, ans12))"
      ],
      "execution_count": 9,
      "outputs": [
        {
          "output_type": "stream",
          "text": [
            "Ответ 1: 1.75 -11.9\n"
          ],
          "name": "stdout"
        }
      ]
    },
    {
      "cell_type": "markdown",
      "metadata": {
        "id": "uNU1T0HwR_BA"
      },
      "source": [
        "**8.** Стоит **обдумать полученный результат**. Почему ответ отличается в зависимости от начального приближения? Если нарисовать график функции (например, как это делалось в видео, где мы знакомились с *Numpy, Scipy и Matplotlib*), можно увидеть, в какие именно минимумы мы попали. В самом деле, градиентные методы обычно не решают задачу глобальной оптимизации, поэтому результаты работы ожидаемые и вполне корректные."
      ]
    },
    {
      "cell_type": "markdown",
      "metadata": {
        "id": "_5z9Bxz0SDsg"
      },
      "source": [
        "# Задача 2. Глобальная оптимизация"
      ]
    },
    {
      "cell_type": "markdown",
      "metadata": {
        "id": "TZkKxDI4SGaY"
      },
      "source": [
        "**1.** Теперь попробуем применить к той же функции f(x) метод глобальной оптимизации — **дифференциальную эволюцию**."
      ]
    },
    {
      "cell_type": "code",
      "metadata": {
        "id": "Dbax2eaOSFwM",
        "colab": {
          "base_uri": "https://localhost:8080/",
          "height": 0
        },
        "outputId": "6d7b8ea3-6a7a-4e32-ffb8-4968b98871e0"
      },
      "source": [
        "standart_plot(x, f(x), 'x', 'f(x)', 'f(x) при x = [1 30]')"
      ],
      "execution_count": 10,
      "outputs": [
        {
          "output_type": "display_data",
          "data": {
            "image/png": "[encoded data removed]",
            "text/plain": [
              "<Figure size 432x288 with 1 Axes>"
            ]
          },
          "metadata": {
            "tags": [],
            "needs_background": "light"
          }
        }
      ]
    },
    {
      "cell_type": "markdown",
      "metadata": {
        "id": "qDkhHuh5pKA8"
      },
      "source": [
        "**2.** Изучите документацию и примеры использования функции ***scipy.optimize.differential_evolution***.\r\n",
        "\r\n",
        "[scipy.optimize.differential_evolution](https://docs.scipy.org/doc/scipy/reference/generated/scipy.optimize.differential_evolution.html#scipy.optimize.differential_evolution)"
      ]
    },
    {
      "cell_type": "markdown",
      "metadata": {
        "id": "0tCAhCe0pMWx"
      },
      "source": [
        "**3.** Обратите внимание, что границы значений аргументов функции представляют собой **список кортежей** (list, в который помещены объекты типа tuple). Даже если у вас функция одного аргумента, возьмите границы его значений в квадратные скобки, чтобы передавать в этом параметре список из одного кортежа, т.к. в реализации *scipy.optimize.differential_evolution* длина этого списка используется чтобы определить количество аргументов функции."
      ]
    },
    {
      "cell_type": "code",
      "metadata": {
        "id": "pOYR6RrFpONn"
      },
      "source": [
        "from scipy.optimize import differential_evolution as dif_evol\n",
        "# bounds = [(), ()]\n",
        "bounds = np.array([(1, 30)])"
      ],
      "execution_count": 11,
      "outputs": []
    },
    {
      "cell_type": "markdown",
      "metadata": {
        "id": "K8HSSsJWpOwD"
      },
      "source": [
        "**4.** Запустите **поиск минимума** функции f(x) с помощью дифференциальной эволюции на промежутке [1, 30]. Полученное значение функции в точке минимума - ответ в задаче 2. Запишите его с точностью до второго знака после запятой. В этой задаче ответ - только одно число."
      ]
    },
    {
      "cell_type": "code",
      "metadata": {
        "id": "dhLJHuyHpQb3",
        "colab": {
          "base_uri": "https://localhost:8080/"
        },
        "outputId": "5d5c85ee-1cb0-44da-eb25-109aeafd3cda"
      },
      "source": [
        "glob_min_dif_evol = dif_evol(f, bounds)\n",
        "glob_min_dif_evol"
      ],
      "execution_count": 12,
      "outputs": [
        {
          "output_type": "execute_result",
          "data": {
            "text/plain": [
              "     fun: array([-11.89889467])\n",
              "     jac: array([6.03961325e-06])\n",
              " message: 'Optimization terminated successfully.'\n",
              "    nfev: 81\n",
              "     nit: 4\n",
              " success: True\n",
              "       x: array([25.88020319])"
            ]
          },
          "metadata": {
            "tags": []
          },
          "execution_count": 12
        }
      ]
    },
    {
      "cell_type": "code",
      "metadata": {
        "id": "rG09lvZfrJVc",
        "colab": {
          "base_uri": "https://localhost:8080/"
        },
        "outputId": "13ec7d43-6712-4f45-e723-93c72af1ab1c"
      },
      "source": [
        "ans2 = round(glob_min_dif_evol.fun[0], 2)\n",
        "print('Ответ 2:', ans2)\n",
        "with open('submission-2.txt', 'w') as file_obj:\n",
        "  file_obj.write('%.2f' % ans2)"
      ],
      "execution_count": 13,
      "outputs": [
        {
          "output_type": "stream",
          "text": [
            "Ответ 2: -11.9\n"
          ],
          "name": "stdout"
        }
      ]
    },
    {
      "cell_type": "markdown",
      "metadata": {
        "id": "8xcJkCUSpREZ"
      },
      "source": [
        "**5.** Заметьте, дифференциальная эволюция справилась с задачей поиска **глобального минимума** на отрезке, т.к. по своему устройству она предполагает борьбу с попаданием в локальные минимумы."
      ]
    },
    {
      "cell_type": "markdown",
      "metadata": {
        "id": "hnldp1VZpTj3"
      },
      "source": [
        "**6.** **Сравните количество итераций**, потребовавшихся **BFGS** для нахождения минимума при хорошем начальном приближении, с количеством итераций, потребовавшихся **дифференциальной эволюции**. При повторных запусках дифференциальной эволюции количество итераций будет меняться, но в этом примере, скорее всего, оно всегда будет сравнимым с количеством итераций BFGS. Однако в дифференциальной эволюции за одну итерацию требуется выполнить гораздо больше действий, чем в BFGS. Например, можно обратить внимание на количество вычислений значения функции (nfev) и увидеть, что у BFGS оно значительно меньше. Кроме того, время работы дифференциальной эволюции очень быстро растет с увеличением числа аргументов функции."
      ]
    },
    {
      "cell_type": "code",
      "metadata": {
        "id": "5VGzANW9pU4H",
        "colab": {
          "base_uri": "https://localhost:8080/"
        },
        "outputId": "08ab78fe-5056-48bd-ce80-dfa32f426e73"
      },
      "source": [
        "print('Кол-во итераций BFGS с хорошим начальным приближением:', glob_min_bfgs.nit)\n",
        "print('Кол-во итераций Dif Evol:', glob_min_dif_evol.nit)\n",
        "print()\n",
        "print('Кол-во вычислений f(x) при помощи BFGS с хорошим начальным приближением:', glob_min_bfgs.nfev)\n",
        "print('Кол-во вычислений f(x) при помощи Dif Evol:', glob_min_dif_evol.nfev)"
      ],
      "execution_count": 14,
      "outputs": [
        {
          "output_type": "stream",
          "text": [
            "Кол-во итераций BFGS с хорошим начальным приближением: 6\n",
            "Кол-во итераций Dif Evol: 4\n",
            "\n",
            "Кол-во вычислений f(x) при помощи BFGS с хорошим начальным приближением: 21\n",
            "Кол-во вычислений f(x) при помощи Dif Evol: 81\n"
          ],
          "name": "stdout"
        }
      ]
    },
    {
      "cell_type": "markdown",
      "metadata": {
        "id": "EOxrk0_qpVpB"
      },
      "source": [
        "# Задача 3. Минимизация негладкой функции"
      ]
    },
    {
      "cell_type": "markdown",
      "metadata": {
        "id": "DHjP17uzpYx7"
      },
      "source": [
        "**1.** Теперь рассмотрим функцию **h(x) = int(f(x))** на том же отрезке [1, 30], т.е. теперь каждое значение f(x) приводится к типу int и функция принимает только целые значения."
      ]
    },
    {
      "cell_type": "code",
      "metadata": {
        "id": "9oYN3UonpW83"
      },
      "source": [
        "h = lambda x: f(x).astype(int) # h = lambda x: int(f(x)) - без векторизации"
      ],
      "execution_count": 15,
      "outputs": []
    },
    {
      "cell_type": "markdown",
      "metadata": {
        "id": "b9e1IhBGpb6B"
      },
      "source": [
        "**2.** Такая функция будет **негладкой и даже разрывной**, а ее график будет иметь ступенчатый вид. Убедитесь в этом, построив график h(x) с помощью matplotlib."
      ]
    },
    {
      "cell_type": "code",
      "metadata": {
        "id": "NZJ-Z0EFvP8S",
        "colab": {
          "base_uri": "https://localhost:8080/",
          "height": 295
        },
        "outputId": "f156dd47-fef8-43e5-f2d4-0cb18b40a1b1"
      },
      "source": [
        "#standart_plot(x,list(map(h, x)), 'x', 'h(x)', 'int(f(x)) при x = [1 30]') - без векторизации\r\n",
        "standart_plot(x, h(x), 'x', 'h(x)', 'int(f(x)) при x = [1 30]')"
      ],
      "execution_count": 16,
      "outputs": [
        {
          "output_type": "display_data",
          "data": {
            "image/png": "[encoded data removed]",
            "text/plain": [
              "<Figure size 432x288 with 1 Axes>"
            ]
          },
          "metadata": {
            "tags": [],
            "needs_background": "light"
          }
        }
      ]
    },
    {
      "cell_type": "markdown",
      "metadata": {
        "id": "ADLzypYypdXp"
      },
      "source": [
        "**3.** Попробуйте найти **минимум** функции h(x) с помощью **BFGS**, взяв в качестве начального приближения x=30. Получившееся значение функции – ваш первый ответ в этой задаче."
      ]
    },
    {
      "cell_type": "code",
      "metadata": {
        "id": "1qH7tgcNpfA3",
        "colab": {
          "base_uri": "https://localhost:8080/"
        },
        "outputId": "04aaa73f-d480-4dc0-c56f-bca302d6bc97"
      },
      "source": [
        "loc_min_bfgs2 = optimize.minimize(h, 30, method='BFGS')\n",
        "ans31 = np.round(loc_min_bfgs2.fun, 2)[0]\n",
        "print('Ответ 3.1:', ans31)\n",
        "print()\n",
        "loc_min_bfgs2"
      ],
      "execution_count": 17,
      "outputs": [
        {
          "output_type": "stream",
          "text": [
            "Ответ 3.1: -5\n",
            "\n"
          ],
          "name": "stdout"
        },
        {
          "output_type": "execute_result",
          "data": {
            "text/plain": [
              "      fun: array([-5])\n",
              " hess_inv: array([[1]])\n",
              "      jac: array([0.])\n",
              "  message: 'Optimization terminated successfully.'\n",
              "     nfev: 3\n",
              "      nit: 0\n",
              "     njev: 1\n",
              "   status: 0\n",
              "  success: True\n",
              "        x: array([30.])"
            ]
          },
          "metadata": {
            "tags": []
          },
          "execution_count": 17
        }
      ]
    },
    {
      "cell_type": "markdown",
      "metadata": {
        "id": "LpFnIT-0pfbp"
      },
      "source": [
        "**4.** Теперь попробуйте найти **минимум h(x)** на отрезке [1, 30] с помощью **дифференциальной эволюции**. Значение функции h(x) в точке минимума – это ваш второй ответ в этом задании. Запишите его через пробел после предыдущего."
      ]
    },
    {
      "cell_type": "code",
      "metadata": {
        "id": "BrRMSxScphV3",
        "colab": {
          "base_uri": "https://localhost:8080/"
        },
        "outputId": "460827df-c5a2-4953-ef32-46aede6d9390"
      },
      "source": [
        "glob_min_dif_evol2 = dif_evol(h, bounds)\n",
        "ans32 = np.round(glob_min_dif_evol2.fun, 2)\n",
        "print('Ответ 3.2:', ans32)\n",
        "print()\n",
        "glob_min_dif_evol2"
      ],
      "execution_count": 18,
      "outputs": [
        {
          "output_type": "stream",
          "text": [
            "Ответ 3.2: -11.0\n",
            "\n"
          ],
          "name": "stdout"
        },
        {
          "output_type": "execute_result",
          "data": {
            "text/plain": [
              "     fun: -11.0\n",
              " message: 'Optimization terminated successfully.'\n",
              "    nfev: 92\n",
              "     nit: 5\n",
              " success: True\n",
              "       x: array([26.75346352])"
            ]
          },
          "metadata": {
            "tags": []
          },
          "execution_count": 18
        }
      ]
    },
    {
      "cell_type": "code",
      "metadata": {
        "id": "gRyIMb-Exo4p"
      },
      "source": [
        "with open('submission-3.txt', 'w') as file_obj:\n",
        "  file_obj.write('%.2f %.2f' % (ans31, ans32))"
      ],
      "execution_count": 19,
      "outputs": []
    },
    {
      "cell_type": "markdown",
      "metadata": {
        "id": "cAEZQ8kUphzJ"
      },
      "source": [
        "**5.** Обратите внимание на то, что **полученные ответы различаются**. Это ожидаемый результат, ведь **BFGS использует градиент** (в одномерном случае – производную) и явно не пригоден для минимизации рассмотренной нами разрывной функции. Попробуйте понять, почему минимум, найденный BFGS, именно такой (возможно в этом вам поможет выбор разных начальных приближений)."
      ]
    },
    {
      "cell_type": "code",
      "metadata": {
        "id": "pwqvpZ47ph77",
        "colab": {
          "base_uri": "https://localhost:8080/"
        },
        "outputId": "a74cad56-7aea-4004-f05a-ad2cfdf51c26"
      },
      "source": [
        "optimize.minimize(h, 2, method='BFGS')"
      ],
      "execution_count": 20,
      "outputs": [
        {
          "output_type": "execute_result",
          "data": {
            "text/plain": [
              "      fun: array([2])\n",
              " hess_inv: array([[1]])\n",
              "      jac: array([0.])\n",
              "  message: 'Optimization terminated successfully.'\n",
              "     nfev: 3\n",
              "      nit: 0\n",
              "     njev: 1\n",
              "   status: 0\n",
              "  success: True\n",
              "        x: array([2.])"
            ]
          },
          "metadata": {
            "tags": []
          },
          "execution_count": 20
        }
      ]
    },
    {
      "cell_type": "code",
      "metadata": {
        "id": "I4XKxg8ey2HC",
        "colab": {
          "base_uri": "https://localhost:8080/"
        },
        "outputId": "fef90d0a-73f1-4d36-eda0-d7bf6a941608"
      },
      "source": [
        "optimize.minimize(h, 20, method='BFGS')"
      ],
      "execution_count": 21,
      "outputs": [
        {
          "output_type": "execute_result",
          "data": {
            "text/plain": [
              "      fun: array([-5])\n",
              " hess_inv: array([[1]])\n",
              "      jac: array([0.])\n",
              "  message: 'Optimization terminated successfully.'\n",
              "     nfev: 3\n",
              "      nit: 0\n",
              "     njev: 1\n",
              "   status: 0\n",
              "  success: True\n",
              "        x: array([20.])"
            ]
          },
          "metadata": {
            "tags": []
          },
          "execution_count": 21
        }
      ]
    },
    {
      "cell_type": "markdown",
      "metadata": {
        "id": "J18PffDWpiLK"
      },
      "source": [
        "**6.** Выполнив это задание, вы увидели на практике, чем **поиск минимума функции отличается от глобальной оптимизации**, и когда может быть полезно **применить вместо градиентного метода оптимизации метод, не использующий градиент**. Кроме того, вы попрактиковались в использовании библиотеки ***SciPy*** для решения оптимизационных задач, и теперь знаете, насколько это просто и удобно."
      ]
    }
  ]
}