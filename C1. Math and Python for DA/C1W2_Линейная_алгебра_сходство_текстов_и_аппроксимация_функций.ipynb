{
  "nbformat": 4,
  "nbformat_minor": 0,
  "metadata": {
    "colab": {
      "name": "C1W2.Линейная алгебра: сходство текстов и аппроксимация функций.ipynb",
      "provenance": [],
      "collapsed_sections": []
    },
    "kernelspec": {
      "name": "python3",
      "display_name": "Python 3"
    }
  },
  "cells": [
    {
      "cell_type": "code",
      "metadata": {
        "id": "-Ux4rDt93MWZ"
      },
      "source": [
        "import scipy\r\n",
        "from scipy.spatial import distance\r\n",
        "import numpy as np\r\n",
        "import math\r\n",
        "import re\r\n",
        "import matplotlib.pyplot as plt"
      ],
      "execution_count": 1,
      "outputs": []
    },
    {
      "cell_type": "markdown",
      "metadata": {
        "id": "8IF40UAT068M"
      },
      "source": [
        "# Задача 1: сравнение предложений"
      ]
    },
    {
      "cell_type": "markdown",
      "metadata": {
        "id": "5sdPQ0cw09fN"
      },
      "source": [
        "Дан набор предложений, скопированных с Википедии. Каждое из них имеет \"кошачью тему\" в одном из трех смыслов:\r\n",
        "\r\n",
        "* кошки (животные)\r\n",
        "* UNIX-утилита cat для вывода содержимого файлов\r\n",
        "* версии операционной системы OS X, названные в честь семейства кошачьих\r\n",
        "\r\n",
        "\r\n",
        "Ваша **задача** — найти два предложения, которые ближе всего по смыслу к расположенному в самой первой строке. В качестве меры близости по смыслу мы будем использовать косинусное расстояние."
      ]
    },
    {
      "cell_type": "markdown",
      "metadata": {
        "id": "dn4KzF6N1Hm7"
      },
      "source": [
        "**Выполните следующие шаги:**\r\n",
        "\r\n",
        "1. Скачайте файл с предложениями (sentences.txt).\r\n",
        "2. Каждая строка в файле соответствует одному предложению. Считайте их, приведите каждую к нижнему регистру с помощью строковой функции lower().\r\n",
        "3. Произведите токенизацию, то есть разбиение текстов на слова. Для этого можно воспользоваться регулярным выражением, которое считает разделителем любой символ, не являющийся буквой: re.split('[^a-z]', t). Не забудьте удалить пустые слова после разделения.\r\n",
        "4. Составьте список всех слов, встречающихся в предложениях. Сопоставьте каждому слову индекс от нуля до (d - 1), где d — число различных слов в предложениях. Для этого удобно воспользоваться структурой dict.\r\n",
        "5. Создайте матрицу размера n * d, где n — число предложений. Заполните ее: элемент с индексом (i, j) в этой матрице должен быть равен количеству вхождений j-го слова в i-е предложение. У вас должна получиться матрица размера 22 * 254.\r\n",
        "6. Найдите косинусное расстояние от предложения в самой первой строке (In comparison to dogs, cats have not undergone...) до всех остальных с помощью функции scipy.spatial.distance.cosine. Какие номера у двух предложений, ближайших к нему по этому расстоянию (строки нумеруются с нуля)? Эти два числа и будут ответами на задание. Само предложение (In comparison to dogs, cats have not undergone... ) имеет индекс 0.\r\n",
        "7. Запишите полученные числа в файл, разделив пробелом. Обратите внимание, что файл должен состоять из одной строки, в конце которой не должно быть переноса. Пример файла с решением вы можете найти в конце задания (submission-1.txt).\r\n",
        "8.Совпадают ли ближайшие два предложения по тематике с первым? Совпадают ли тематики у следующих по близости предложений?\r\n",
        "\r\n",
        "Разумеется, использованный вами метод крайне простой. Например, он не учитывает формы слов (так, cat и cats он считает разными словами, хотя по сути они означают одно и то же), не удаляет из текстов артикли и прочие ненужные слова. Позже мы будем подробно изучать анализ текстов, где выясним, как достичь высокого качества в задаче поиска похожих предложений."
      ]
    },
    {
      "cell_type": "code",
      "metadata": {
        "id": "Un_MnjrexQtq"
      },
      "source": [
        "txt = open('sentences.txt', 'r')"
      ],
      "execution_count": 2,
      "outputs": []
    },
    {
      "cell_type": "code",
      "metadata": {
        "id": "Ln1jpntgQDhn"
      },
      "source": [
        "lines = []\n",
        "for line in open('sentences.txt', 'r'):\n",
        "  lines.append(line.lower())"
      ],
      "execution_count": 3,
      "outputs": []
    },
    {
      "cell_type": "code",
      "metadata": {
        "id": "D6VWLG6ROFDP"
      },
      "source": [
        "regexp = re.compile('[^a-z]')\n",
        "wordsinsentences = [[word for word in re.split(regexp, line) if word] for line in lines]"
      ],
      "execution_count": 4,
      "outputs": []
    },
    {
      "cell_type": "code",
      "metadata": {
        "id": "EQY7yvPlQfm8",
        "colab": {
          "base_uri": "https://localhost:8080/"
        },
        "outputId": "6723b145-92bd-4eeb-a17e-e396f160ccff"
      },
      "source": [
        "txt = open('sentences.txt', 'r')\n",
        "text = txt.read()\n",
        "text = text.lower()\n",
        "text = re.split('[^a-z]', text)\n",
        "text = set(text)\n",
        "text.remove('')\n",
        "words = dict(zip(text, range(len(text))))\n",
        "len(words)"
      ],
      "execution_count": 5,
      "outputs": [
        {
          "output_type": "execute_result",
          "data": {
            "text/plain": [
              "254"
            ]
          },
          "metadata": {
            "tags": []
          },
          "execution_count": 5
        }
      ]
    },
    {
      "cell_type": "code",
      "metadata": {
        "id": "AzKlDONIOFLR",
        "colab": {
          "base_uri": "https://localhost:8080/"
        },
        "outputId": "621719d1-6090-4d55-b036-6758981c6575"
      },
      "source": [
        "matrix = np.zeros((len(lines), len(words)))\n",
        "matrix.shape"
      ],
      "execution_count": 6,
      "outputs": [
        {
          "output_type": "execute_result",
          "data": {
            "text/plain": [
              "(22, 254)"
            ]
          },
          "metadata": {
            "tags": []
          },
          "execution_count": 6
        }
      ]
    },
    {
      "cell_type": "code",
      "metadata": {
        "id": "p8CfywnUOFTR"
      },
      "source": [
        "for i in range(len(lines)):\n",
        "  for word in wordsinsentences[i]:\n",
        "    matrix[i][words[word]] += 1"
      ],
      "execution_count": 7,
      "outputs": []
    },
    {
      "cell_type": "code",
      "metadata": {
        "id": "Bm2O-11pTbfy",
        "colab": {
          "base_uri": "https://localhost:8080/"
        },
        "outputId": "93b0a133-5d6d-4c14-aea2-47782ebdb36c"
      },
      "source": [
        "cos_dist = []\n",
        "for i in range(len(lines)):\n",
        "  cos_dist.append(distance.cosine(matrix[0], matrix[i]))\n",
        "cos_dist"
      ],
      "execution_count": 8,
      "outputs": [
        {
          "output_type": "execute_result",
          "data": {
            "text/plain": [
              "[0.0,\n",
              " 0.9527544408738466,\n",
              " 0.8644738145642124,\n",
              " 0.8951715163278082,\n",
              " 0.7770887149698589,\n",
              " 0.9402385695332803,\n",
              " 0.7327387580875756,\n",
              " 0.9258750683338899,\n",
              " 0.8842724875284311,\n",
              " 0.9055088817476932,\n",
              " 0.8328165362273942,\n",
              " 0.8804771390665607,\n",
              " 0.8396432548525454,\n",
              " 0.8703592552895671,\n",
              " 0.8740118423302576,\n",
              " 0.9442721787424647,\n",
              " 0.8406361854220809,\n",
              " 0.956644501523794,\n",
              " 0.9442721787424647,\n",
              " 0.8885443574849294,\n",
              " 0.8427572744917122,\n",
              " 0.8250364469440588]"
            ]
          },
          "metadata": {
            "tags": []
          },
          "execution_count": 8
        }
      ]
    },
    {
      "cell_type": "code",
      "metadata": {
        "id": "QGerE1g_TNHH",
        "colab": {
          "base_uri": "https://localhost:8080/"
        },
        "outputId": "5c670288-d10a-4e34-bf44-7b608619b540"
      },
      "source": [
        "sorted_distances = sorted(cos_dist)\n",
        "sorted_distances"
      ],
      "execution_count": 9,
      "outputs": [
        {
          "output_type": "execute_result",
          "data": {
            "text/plain": [
              "[0.0,\n",
              " 0.7327387580875756,\n",
              " 0.7770887149698589,\n",
              " 0.8250364469440588,\n",
              " 0.8328165362273942,\n",
              " 0.8396432548525454,\n",
              " 0.8406361854220809,\n",
              " 0.8427572744917122,\n",
              " 0.8644738145642124,\n",
              " 0.8703592552895671,\n",
              " 0.8740118423302576,\n",
              " 0.8804771390665607,\n",
              " 0.8842724875284311,\n",
              " 0.8885443574849294,\n",
              " 0.8951715163278082,\n",
              " 0.9055088817476932,\n",
              " 0.9258750683338899,\n",
              " 0.9402385695332803,\n",
              " 0.9442721787424647,\n",
              " 0.9442721787424647,\n",
              " 0.9527544408738466,\n",
              " 0.956644501523794]"
            ]
          },
          "metadata": {
            "tags": []
          },
          "execution_count": 9
        }
      ]
    },
    {
      "cell_type": "code",
      "metadata": {
        "colab": {
          "base_uri": "https://localhost:8080/"
        },
        "id": "oqqz8y3D6GVt",
        "outputId": "4835d1e5-db67-46b7-aeda-2315af1f47d2"
      },
      "source": [
        "np.where(cos_dist == sorted_distances[1])[0][0], np.where(cos_dist == sorted_distances[2])[0][0]"
      ],
      "execution_count": 10,
      "outputs": [
        {
          "output_type": "execute_result",
          "data": {
            "text/plain": [
              "(6, 4)"
            ]
          },
          "metadata": {
            "tags": []
          },
          "execution_count": 10
        }
      ]
    },
    {
      "cell_type": "markdown",
      "metadata": {
        "id": "FvJwG1579RAf"
      },
      "source": [
        "**ОТВЕТ:**\n",
        "4 6"
      ]
    },
    {
      "cell_type": "markdown",
      "metadata": {
        "id": "41BK1KlP9V-a"
      },
      "source": [
        "# Задача 2"
      ]
    },
    {
      "cell_type": "markdown",
      "metadata": {
        "id": "DVe5EZAL19yo"
      },
      "source": [
        "Рассмотрим сложную математическую функцию на отрезке [1, 15]:\r\n",
        "\r\n",
        "f(x) = sin(x / 5) * exp(x / 10) + 5 * exp(-x / 2)\r\n",
        "\r\n",
        "Она может описывать, например, зависимость оценок, которые выставляют определенному сорту вина эксперты, в зависимости от возраста этого вина. По сути, задача машинного обучения состоит в том, чтобы приблизить сложную зависимость с помощью функции из определенного семейства. В этом задании мы будем приближать указанную функцию с помощью многочленов.\r\n",
        "\r\n",
        "Как известно, многочлен степени n (то есть $w_0 + w_1 x + w_2 x^2 + ... + w_n x^n$) однозначно определяется любыми n + 1 различными точками, через которые он проходит. Это значит, что его коэффициенты $w_0, ... w_n$ можно определить из следующей системы линейных уравнений:\r\n",
        "\r\n",
        "![image.png](data:image/png;base64,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)\r\n",
        "\r\n",
        "\r\n",
        "\r\n",
        "\r\n",
        "где через $x_1, ..., x_n, x_{n+1}$ обозначены точки, через которые проходит многочлен, а через $f(x_1), ..., f(x_n), f(x_{n+1})$ — значения, которые он должен принимать в этих точках.\r\n",
        "\r\n",
        "Воспользуемся описанным свойством, и будем находить приближение функции многочленом, решая систему линейных уравнений.\r\n",
        "\r\n",
        "1. Сформируйте систему линейных уравнений (то есть задайте матрицу коэффициентов A и свободный вектор b) для многочлена первой степени, который должен совпадать с функцией f в точках 1 и 15. Решите данную систему с помощью функции *scipy.linalg.solve*. Нарисуйте функцию f и полученный многочлен. Хорошо ли он приближает исходную функцию?\r\n",
        "2. Повторите те же шаги для многочлена второй степени, который совпадает с функцией f в точках 1, 8 и 15. Улучшилось ли качество аппроксимации?\r\n",
        "3. Повторите те же шаги для многочлена третьей степени, который совпадает с функцией f в точках 1, 4, 10 и 15. Хорошо ли он аппроксимирует функцию? Коэффициенты данного многочлена (четыре числа в следующем порядке: $w_0, w_1, w_2, w_3$) являются ответом на задачу. Округлять коэффициенты не обязательно, но при желании можете произвести округление до второго знака (т.е. до числа вида 0.42)\r\n",
        "4. Запишите полученные числа в файл, разделив пробелами. Обратите внимание, что файл должен состоять из одной строки, в конце которой не должно быть переноса. Пример файла с решением вы можете найти в конце задания (*submission-2.txt*).\r\n"
      ]
    },
    {
      "cell_type": "code",
      "metadata": {
        "id": "8FIPcsiQ9XNa"
      },
      "source": [
        "def f(x):\n",
        "  return np.sin(x / 5.) * np.exp(x / 10.) + 5. * np.exp(-x / 2.)"
      ],
      "execution_count": 11,
      "outputs": []
    },
    {
      "cell_type": "code",
      "metadata": {
        "id": "SDPRVLUz9eG0",
        "colab": {
          "base_uri": "https://localhost:8080/"
        },
        "outputId": "dd6d1112-bdc8-4805-a888-ca69ba02a2a3"
      },
      "source": [
        "f(1), f(15)"
      ],
      "execution_count": 12,
      "outputs": [
        {
          "output_type": "execute_result",
          "data": {
            "text/plain": [
              "(3.252216865271419, 0.6352214195786656)"
            ]
          },
          "metadata": {
            "tags": []
          },
          "execution_count": 12
        }
      ]
    },
    {
      "cell_type": "code",
      "metadata": {
        "colab": {
          "base_uri": "https://localhost:8080/",
          "height": 265
        },
        "id": "Rn7s9l2y7AH9",
        "outputId": "b0f02827-afb8-4bbc-9f46-45338c1c62dd"
      },
      "source": [
        "x = np.linspace(1,15,100)\r\n",
        "plt.plot(x, f(x));"
      ],
      "execution_count": 13,
      "outputs": [
        {
          "output_type": "display_data",
          "data": {
            "image/png": "[encoded data removed]",
            "text/plain": [
              "<Figure size 432x288 with 1 Axes>"
            ]
          },
          "metadata": {
            "tags": [],
            "needs_background": "light"
          }
        }
      ]
    },
    {
      "cell_type": "code",
      "metadata": {
        "id": "rl_EP-8c9pze"
      },
      "source": [
        "A = np.array([[1.,1.],[1., 15.]])\n",
        "b = np.array([f(1.), f(15.)])"
      ],
      "execution_count": 14,
      "outputs": []
    },
    {
      "cell_type": "code",
      "metadata": {
        "id": "wiA4Guhf-iRT",
        "colab": {
          "base_uri": "https://localhost:8080/"
        },
        "outputId": "405828f8-83b7-4e19-8a0e-4f6ac1e60063"
      },
      "source": [
        "w0w1 = scipy.linalg.solve(A, b)\n",
        "w0w1"
      ],
      "execution_count": 15,
      "outputs": [
        {
          "output_type": "execute_result",
          "data": {
            "text/plain": [
              "array([ 3.43914511, -0.18692825])"
            ]
          },
          "metadata": {
            "tags": []
          },
          "execution_count": 15
        }
      ]
    },
    {
      "cell_type": "code",
      "metadata": {
        "id": "b0jOXa21BPlW",
        "colab": {
          "base_uri": "https://localhost:8080/"
        },
        "outputId": "19a76c47-8a7f-4a2a-91b2-bdcef4bb09b6"
      },
      "source": [
        "A = np.array([[1.,1., 1.],[1., 8., 8.**2], [1., 15., 15.**2]])\n",
        "b = np.array([f(1.), f(8.), f(15.)])\n",
        "w0w1w2 = scipy.linalg.solve(A, b)\n",
        "w0w1w2"
      ],
      "execution_count": 16,
      "outputs": [
        {
          "output_type": "execute_result",
          "data": {
            "text/plain": [
              "array([ 3.32512949, -0.06531159, -0.00760104])"
            ]
          },
          "metadata": {
            "tags": []
          },
          "execution_count": 16
        }
      ]
    },
    {
      "cell_type": "code",
      "metadata": {
        "id": "NA_m7gZmBnME",
        "colab": {
          "base_uri": "https://localhost:8080/"
        },
        "outputId": "3740607f-c4a0-4618-af4b-b712d4e369d3"
      },
      "source": [
        "A = np.array([[1.,1., 1., 1.],[1., 4., 4.**2, 4.**3],\n",
        "              [1., 10., 10.**2, 10.**3], [1., 15., 15**2, 15**3]])\n",
        "b = np.array([f(1.), f(4.), f(10.), f(15.)])\n",
        "w0w1w2w3 = scipy.linalg.solve(A, b)\n",
        "w0w1w2w3"
      ],
      "execution_count": 17,
      "outputs": [
        {
          "output_type": "execute_result",
          "data": {
            "text/plain": [
              "array([ 4.36264154, -1.29552587,  0.19333685, -0.00823565])"
            ]
          },
          "metadata": {
            "tags": []
          },
          "execution_count": 17
        }
      ]
    },
    {
      "cell_type": "markdown",
      "metadata": {
        "id": "nzA7oVfzG24E"
      },
      "source": [
        "**ОТВЕТ:**\n",
        "4.36, -1.3 ,  0.19, -0.01"
      ]
    },
    {
      "cell_type": "code",
      "metadata": {
        "id": "BfzKMZnQCCDj",
        "colab": {
          "base_uri": "https://localhost:8080/"
        },
        "outputId": "7f05afc4-4e7b-48d1-e61b-a50e5801ea85"
      },
      "source": [
        "w0w1w2w3=w0w1w2w3.round(2)\n",
        "w0w1w2w3"
      ],
      "execution_count": 18,
      "outputs": [
        {
          "output_type": "execute_result",
          "data": {
            "text/plain": [
              "array([ 4.36, -1.3 ,  0.19, -0.01])"
            ]
          },
          "metadata": {
            "tags": []
          },
          "execution_count": 18
        }
      ]
    },
    {
      "cell_type": "code",
      "metadata": {
        "id": "umI3K1T-FOJa"
      },
      "source": [
        "def wx1(x):\n",
        "  return w0w1[0] + w0w1[1] * x\n",
        "\n",
        "def wx2(x):\n",
        "  return w0w1w2[0] + w0w1w2[1] * x + w0w1w2[2] * x**2\n",
        "\n",
        "def wx3(x):\n",
        "  return w0w1w2w3[0] + w0w1w2w3[1] * x + w0w1w2w3[2] * x**2 + w0w1w2w3[3] * x**3\n",
        "\n",
        "x = np.linspace(1,15,100)"
      ],
      "execution_count": 19,
      "outputs": []
    },
    {
      "cell_type": "code",
      "metadata": {
        "id": "rNacEdtAFza2",
        "colab": {
          "base_uri": "https://localhost:8080/",
          "height": 265
        },
        "outputId": "80e628cb-75fe-4683-86c5-138e5f8248ab"
      },
      "source": [
        "plt.plot(x, f(x), x, wx1(x), '--');"
      ],
      "execution_count": 20,
      "outputs": [
        {
          "output_type": "display_data",
          "data": {
            "image/png": "[encoded data removed]",
            "text/plain": [
              "<Figure size 432x288 with 1 Axes>"
            ]
          },
          "metadata": {
            "tags": [],
            "needs_background": "light"
          }
        }
      ]
    },
    {
      "cell_type": "code",
      "metadata": {
        "colab": {
          "base_uri": "https://localhost:8080/",
          "height": 265
        },
        "id": "suopSTYe86Zu",
        "outputId": "5d2f3621-dfe7-48ce-d454-b40c95fd45d3"
      },
      "source": [
        "plt.plot(x, f(x), x, wx2(x), '--');"
      ],
      "execution_count": 21,
      "outputs": [
        {
          "output_type": "display_data",
          "data": {
            "image/png": "[encoded data removed]",
            "text/plain": [
              "<Figure size 432x288 with 1 Axes>"
            ]
          },
          "metadata": {
            "tags": [],
            "needs_background": "light"
          }
        }
      ]
    },
    {
      "cell_type": "code",
      "metadata": {
        "colab": {
          "base_uri": "https://localhost:8080/",
          "height": 265
        },
        "id": "Abcm7Q3F9JgJ",
        "outputId": "581ffe70-dde1-4d65-8db6-cb68ea32015d"
      },
      "source": [
        "plt.plot(x, f(x), x, wx3(x), '--');"
      ],
      "execution_count": 22,
      "outputs": [
        {
          "output_type": "display_data",
          "data": {
            "image/png": "[encoded data removed]",
            "text/plain": [
              "<Figure size 432x288 with 1 Axes>"
            ]
          },
          "metadata": {
            "tags": [],
            "needs_background": "light"
          }
        }
      ]
    }
  ]
}
